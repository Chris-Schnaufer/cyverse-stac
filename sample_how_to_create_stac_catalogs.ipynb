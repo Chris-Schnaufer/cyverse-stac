{
 "cells": [
  {
   "cell_type": "markdown",
   "metadata": {
    "id": "MSsOaWEkeLiu"
   },
   "source": [
    "# How to create STAC Catalogs \n",
    "## STAC Community Sprint, Arlington, November 7th 2019"
   ]
  },
  {
   "cell_type": "markdown",
   "metadata": {
    "id": "QFZq3qWEeLiw"
   },
   "source": [
    "This notebook runs through some of the basics of using PySTAC to create a static STAC. It was part of a 30 minute presentation at the [community STAC sprint](https://github.com/radiantearth/community-sprints/tree/master/11052019-arlignton-va) in Arlington, VA in November 2019, updated to work with current PySTAC."
   ]
  },
  {
   "cell_type": "markdown",
   "metadata": {
    "id": "Y7rpSnaneLiw"
   },
   "source": [
    "This tutorial will require the `boto3`, `rasterio`, and `shapely` libraries:"
   ]
  },
  {
   "cell_type": "code",
   "execution_count": 1,
   "metadata": {
    "colab": {
     "base_uri": "https://localhost:8080/"
    },
    "id": "0PzhnBn5eLix",
    "outputId": "7d70f9e5-f655-4ed2-80c3-b3e4fd1dadbd"
   },
   "outputs": [
    {
     "name": "stdout",
     "output_type": "stream",
     "text": [
      "Looking in indexes: https://pypi.org/simple, https://us-python.pkg.dev/colab-wheels/public/simple/\n",
      "Collecting boto3\n",
      "  Downloading boto3-1.23.9-py3-none-any.whl (132 kB)\n",
      "\u001b[K     |████████████████████████████████| 132 kB 16.7 MB/s \n",
      "\u001b[?25hCollecting rasterio\n",
      "  Downloading rasterio-1.2.10-cp37-cp37m-manylinux1_x86_64.whl (19.3 MB)\n",
      "\u001b[K     |████████████████████████████████| 19.3 MB 51.1 MB/s \n",
      "\u001b[?25hRequirement already satisfied: shapely in /usr/local/lib/python3.7/dist-packages (1.8.2)\n",
      "Collecting pystac\n",
      "  Downloading pystac-1.4.0-py3-none-any.whl (137 kB)\n",
      "\u001b[K     |████████████████████████████████| 137 kB 54.5 MB/s \n",
      "\u001b[?25hCollecting jmespath<2.0.0,>=0.7.1\n",
      "  Downloading jmespath-1.0.0-py3-none-any.whl (23 kB)\n",
      "Collecting botocore<1.27.0,>=1.26.9\n",
      "  Downloading botocore-1.26.10-py3-none-any.whl (8.8 MB)\n",
      "\u001b[K     |████████████████████████████████| 8.8 MB 54.5 MB/s \n",
      "\u001b[?25hCollecting s3transfer<0.6.0,>=0.5.0\n",
      "  Downloading s3transfer-0.5.2-py3-none-any.whl (79 kB)\n",
      "\u001b[K     |████████████████████████████████| 79 kB 10.0 MB/s \n",
      "\u001b[?25hCollecting urllib3<1.27,>=1.25.4\n",
      "  Downloading urllib3-1.26.9-py2.py3-none-any.whl (138 kB)\n",
      "\u001b[K     |████████████████████████████████| 138 kB 39.9 MB/s \n",
      "\u001b[?25hRequirement already satisfied: python-dateutil<3.0.0,>=2.1 in /usr/local/lib/python3.7/dist-packages (from botocore<1.27.0,>=1.26.9->boto3) (2.8.2)\n",
      "Requirement already satisfied: six>=1.5 in /usr/local/lib/python3.7/dist-packages (from python-dateutil<3.0.0,>=2.1->botocore<1.27.0,>=1.26.9->boto3) (1.15.0)\n",
      "Collecting click-plugins\n",
      "  Downloading click_plugins-1.1.1-py2.py3-none-any.whl (7.5 kB)\n",
      "Requirement already satisfied: setuptools in /usr/local/lib/python3.7/dist-packages (from rasterio) (57.4.0)\n",
      "Requirement already satisfied: click>=4.0 in /usr/local/lib/python3.7/dist-packages (from rasterio) (7.1.2)\n",
      "Requirement already satisfied: attrs in /usr/local/lib/python3.7/dist-packages (from rasterio) (21.4.0)\n",
      "Requirement already satisfied: numpy in /usr/local/lib/python3.7/dist-packages (from rasterio) (1.21.6)\n",
      "Collecting snuggs>=1.4.1\n",
      "  Downloading snuggs-1.4.7-py3-none-any.whl (5.4 kB)\n",
      "Collecting cligj>=0.5\n",
      "  Downloading cligj-0.7.2-py3-none-any.whl (7.1 kB)\n",
      "Collecting affine\n",
      "  Downloading affine-2.3.1-py2.py3-none-any.whl (16 kB)\n",
      "Requirement already satisfied: certifi in /usr/local/lib/python3.7/dist-packages (from rasterio) (2022.5.18.1)\n",
      "Requirement already satisfied: pyparsing>=2.1.6 in /usr/local/lib/python3.7/dist-packages (from snuggs>=1.4.1->rasterio) (3.0.9)\n",
      "Requirement already satisfied: typing-extensions>=3.7 in /usr/local/lib/python3.7/dist-packages (from pystac) (4.2.0)\n",
      "Installing collected packages: urllib3, jmespath, botocore, snuggs, s3transfer, cligj, click-plugins, affine, rasterio, pystac, boto3\n",
      "  Attempting uninstall: urllib3\n",
      "    Found existing installation: urllib3 1.24.3\n",
      "    Uninstalling urllib3-1.24.3:\n",
      "      Successfully uninstalled urllib3-1.24.3\n",
      "\u001b[31mERROR: pip's dependency resolver does not currently take into account all the packages that are installed. This behaviour is the source of the following dependency conflicts.\n",
      "requests 2.23.0 requires urllib3!=1.25.0,!=1.25.1,<1.26,>=1.21.1, but you have urllib3 1.26.9 which is incompatible.\n",
      "datascience 0.10.6 requires folium==0.2.1, but you have folium 0.8.3 which is incompatible.\u001b[0m\n",
      "Successfully installed affine-2.3.1 boto3-1.23.9 botocore-1.26.10 click-plugins-1.1.1 cligj-0.7.2 jmespath-1.0.0 pystac-1.4.0 rasterio-1.2.10 s3transfer-0.5.2 snuggs-1.4.7 urllib3-1.26.9\n"
     ]
    }
   ],
   "source": [
    "%pip install boto3 rasterio shapely pystac"
   ]
  },
  {
   "cell_type": "markdown",
   "metadata": {
    "id": "WD4s48T8eLiy"
   },
   "source": [
    "We can import pystac and access most of the functionality we need with the single import:"
   ]
  },
  {
   "cell_type": "code",
   "execution_count": 1,
   "metadata": {
    "id": "OScQK29yeLiy"
   },
   "outputs": [],
   "source": [
    "import pystac"
   ]
  },
  {
   "cell_type": "markdown",
   "metadata": {
    "id": "PzlnaxuOeLiy"
   },
   "source": [
    "## Creating a catalog from a local file"
   ]
  },
  {
   "cell_type": "markdown",
   "metadata": {
    "id": "Xqo6mc56eLiz"
   },
   "source": [
    "To give us some material to work with, lets download a single image from the [Spacenet 5 challenge](https://www.topcoder.com/challenges/30099956). We'll use a temporary directory to save off our single-item STAC."
   ]
  },
  {
   "cell_type": "code",
   "execution_count": 12,
   "metadata": {
    "id": "ELp6LenpeLiz"
   },
   "outputs": [],
   "source": [
    "import os\n",
    "import urllib.request\n",
    "from tempfile import TemporaryDirectory\n",
    "\n",
    "tmp_dir = TemporaryDirectory()\n",
    "img_path = os.path.join(tmp_dir.name, 'image.tif')"
   ]
  },
  {
   "cell_type": "code",
   "execution_count": 13,
   "metadata": {
    "id": "cKdB2qX7eLi0",
    "outputId": "b86f2c7f-b6cb-478d-d7d8-836583ee7d13"
   },
   "outputs": [],
   "source": [
    "# url = ('https://spacenet-dataset.s3.amazonaws.com/'\n",
    "#        'spacenet/SN5_roads/train/AOI_7_Moscow/MS/'\n",
    "#        'SN5_roads_train_AOI_7_Moscow_MS_chip996.tif')\n",
    "# urllib.request.urlretrieve(url, img_path)"
   ]
  },
  {
   "cell_type": "markdown",
   "metadata": {
    "id": "2dWAU5-ZeLi0"
   },
   "source": [
    "We want to create a Catalog. Let's check the pydocs for `Catalog` to see what information we'll need. (We use `__doc__` instead of `help()` here to avoid printing out all the docs for the class.)"
   ]
  },
  {
   "cell_type": "code",
   "execution_count": 14,
   "metadata": {
    "colab": {
     "base_uri": "https://localhost:8080/"
    },
    "id": "bybDXd71eLi0",
    "outputId": "1b8c967b-ba94-4754-a36f-ecf89467b4c5"
   },
   "outputs": [
    {
     "name": "stdout",
     "output_type": "stream",
     "text": [
      "A PySTAC Catalog represents a STAC catalog in memory.\n",
      "\n",
      "    A Catalog is a :class:`~pystac.STACObject` that may contain children,\n",
      "    which are instances of :class:`~pystac.Catalog` or :class:`~pystac.Collection`,\n",
      "    as well as :class:`~pystac.Item` s.\n",
      "\n",
      "    Args:\n",
      "        id : Identifier for the catalog. Must be unique within the STAC.\n",
      "        description : Detailed multi-line description to fully explain the catalog.\n",
      "            `CommonMark 0.28 syntax <https://commonmark.org/>`_ MAY be used for rich\n",
      "            text representation.\n",
      "        title : Optional short descriptive one-line title for the catalog.\n",
      "        stac_extensions : Optional list of extensions the Catalog implements.\n",
      "        href : Optional HREF for this catalog, which be set as the\n",
      "            catalog's self link's HREF.\n",
      "        catalog_type : Optional catalog type for this catalog. Must\n",
      "            be one of the values in :class:`~pystac.CatalogType`.\n",
      "    \n"
     ]
    }
   ],
   "source": [
    "print(pystac.Catalog.__doc__)"
   ]
  },
  {
   "cell_type": "markdown",
   "metadata": {
    "id": "EEN_pf7LeLi0"
   },
   "source": [
    "Let's just give an ID and a description. We don't have to worry about the HREF right now;  that  will be set later."
   ]
  },
  {
   "cell_type": "code",
   "execution_count": 15,
   "metadata": {
    "id": "ekLKBgDgeLi1"
   },
   "outputs": [],
   "source": [
    "catalog = pystac.Catalog(id='test-catalog', description='Tutorial catalog.')"
   ]
  },
  {
   "cell_type": "markdown",
   "metadata": {
    "id": "t4LUmEKeeLi1"
   },
   "source": [
    "There are no children or items in the catalog, since we haven't added anything yet."
   ]
  },
  {
   "cell_type": "code",
   "execution_count": 16,
   "metadata": {
    "colab": {
     "base_uri": "https://localhost:8080/"
    },
    "id": "5NmA4kEbeLi1",
    "outputId": "904a82e9-e966-4b52-ae2d-f83aa475dff8"
   },
   "outputs": [
    {
     "name": "stdout",
     "output_type": "stream",
     "text": [
      "[]\n",
      "[]\n"
     ]
    }
   ],
   "source": [
    "print(list(catalog.get_children()))\n",
    "print(list(catalog.get_items()))"
   ]
  },
  {
   "cell_type": "markdown",
   "metadata": {
    "id": "iWOhEkDweLi2"
   },
   "source": [
    "We'll now create an Item to represent the image. Check the pydocs to see what you need to supply:"
   ]
  },
  {
   "cell_type": "code",
   "execution_count": 17,
   "metadata": {
    "colab": {
     "base_uri": "https://localhost:8080/"
    },
    "id": "A2zJPvXYeLi2",
    "outputId": "55a36cf9-e179-43b5-aba9-3e6c214aec94"
   },
   "outputs": [
    {
     "name": "stdout",
     "output_type": "stream",
     "text": [
      "An Item is the core granular entity in a STAC, containing the core metadata\n",
      "    that enables any client to search or crawl online catalogs of spatial 'assets' -\n",
      "    satellite imagery, derived data, DEM's, etc.\n",
      "\n",
      "    Args:\n",
      "        id : Provider identifier. Must be unique within the STAC.\n",
      "        geometry : Defines the full footprint of the asset represented by this\n",
      "            item, formatted according to\n",
      "            `RFC 7946, section 3.1 (GeoJSON) <https://tools.ietf.org/html/rfc7946>`_.\n",
      "        bbox :  Bounding Box of the asset represented by this item\n",
      "            using either 2D or 3D geometries. The length of the array must be 2*n\n",
      "            where n is the number of dimensions. Could also be None in the case of a\n",
      "            null geometry.\n",
      "        datetime : Datetime associated with this item. If None,\n",
      "            a start_datetime and end_datetime must be supplied in the properties.\n",
      "        properties : A dictionary of additional metadata for the item.\n",
      "        stac_extensions : Optional list of extensions the Item implements.\n",
      "        href : Optional HREF for this item, which be set as the item's\n",
      "            self link's HREF.\n",
      "        collection : The Collection or Collection ID that this item\n",
      "            belongs to.\n",
      "        extra_fields : Extra fields that are part of the top-level JSON\n",
      "            properties of the Item.\n",
      "    \n"
     ]
    }
   ],
   "source": [
    "print(pystac.Item.__doc__)"
   ]
  },
  {
   "cell_type": "markdown",
   "metadata": {
    "id": "7wjVws5FeLi2"
   },
   "source": [
    "Using [rasterio](https://rasterio.readthedocs.io/en/stable/), we can pull out the bounding box of the image to use for the image metadata. If the image contained a NoData border, we would ideally pull out the footprint and save it as the geometry; in this case, we're working with a small chip that most likely has no NoData values."
   ]
  },
  {
   "cell_type": "code",
   "execution_count": 18,
   "metadata": {
    "id": "rPNB6ZEOeLi2"
   },
   "outputs": [],
   "source": [
    "import rasterio\n",
    "from shapely.geometry import Polygon, mapping\n",
    "\n",
    "def get_bbox_and_footprint(raster_uri):\n",
    "    with rasterio.open(raster_uri) as ds:\n",
    "        bounds = ds.bounds\n",
    "        bbox = [bounds.left, bounds.bottom, bounds.right, bounds.top]\n",
    "        footprint = Polygon([\n",
    "            [bounds.left, bounds.bottom],\n",
    "            [bounds.left, bounds.top],\n",
    "            [bounds.right, bounds.top],\n",
    "            [bounds.right, bounds.bottom]\n",
    "        ])\n",
    "        \n",
    "        return (bbox, mapping(footprint))"
   ]
  },
  {
   "cell_type": "code",
   "execution_count": 19,
   "metadata": {
    "colab": {
     "base_uri": "https://localhost:8080/"
    },
    "id": "Th2DN3WfeLi3",
    "outputId": "954c6a36-7d8c-4605-d421-10a9183651b9"
   },
   "outputs": [
    {
     "name": "stdout",
     "output_type": "stream",
     "text": [
      "[-111.63283187377722, 35.21539644193983, -111.63094541168057, 35.216923577922834]\n",
      "{'type': 'Polygon', 'coordinates': (((-111.63283187377722, 35.21539644193983), (-111.63283187377722, 35.216923577922834), (-111.63094541168057, 35.216923577922834), (-111.63094541168057, 35.21539644193983), (-111.63283187377722, 35.21539644193983)),)}\n"
     ]
    }
   ],
   "source": [
    "img_path=\"0-croplands_2020-02-07_2021-02-01.tif\"\n",
    "\n",
    "\n",
    "bbox, footprint = get_bbox_and_footprint(img_path)\n",
    "print(bbox)\n",
    "print(footprint)"
   ]
  },
  {
   "cell_type": "markdown",
   "metadata": {
    "id": "hBEcMecmeLi3"
   },
   "source": [
    "We're also using `datetime.utcnow()` to supply the required datetime property for our Item. Since this is a required property, you might often find yourself making up a time to fill in if you don't know the exact capture time."
   ]
  },
  {
   "cell_type": "code",
   "execution_count": 20,
   "metadata": {
    "id": "2JwG0OJyeLi3"
   },
   "outputs": [],
   "source": [
    "from datetime import datetime\n",
    "\n",
    "item = pystac.Item(id='local-image',\n",
    "                 geometry=footprint,\n",
    "                 bbox=bbox,\n",
    "                 datetime=datetime.utcnow(),\n",
    "                 properties={})"
   ]
  },
  {
   "cell_type": "markdown",
   "metadata": {
    "id": "IvkSzMGoeLi4"
   },
   "source": [
    "We haven't added it to a catalog yet, so it's parent isn't set. Once we add it to the catalog, we can see it correctly links to it's parent."
   ]
  },
  {
   "cell_type": "code",
   "execution_count": 21,
   "metadata": {
    "id": "7ys1tFnaeLi4"
   },
   "outputs": [],
   "source": [
    "assert item.get_parent() is None"
   ]
  },
  {
   "cell_type": "code",
   "execution_count": 22,
   "metadata": {
    "id": "TZ3CnKyweLi4"
   },
   "outputs": [],
   "source": [
    "catalog.add_item(item)"
   ]
  },
  {
   "cell_type": "code",
   "execution_count": 23,
   "metadata": {
    "colab": {
     "base_uri": "https://localhost:8080/"
    },
    "id": "JBotGYhVeLi4",
    "outputId": "ee04e52b-280e-492a-f3ee-1cf7fe66fc7a"
   },
   "outputs": [
    {
     "data": {
      "text/plain": [
       "<Catalog id=test-catalog>"
      ]
     },
     "execution_count": 23,
     "metadata": {},
     "output_type": "execute_result"
    }
   ],
   "source": [
    "item.get_parent()"
   ]
  },
  {
   "cell_type": "markdown",
   "metadata": {
    "id": "my6U17nTeLi5"
   },
   "source": [
    "`describe()` is a useful method on `Catalog` - but be careful when using it on large catalogs, as it will walk the entire tree of the STAC."
   ]
  },
  {
   "cell_type": "code",
   "execution_count": 24,
   "metadata": {
    "colab": {
     "base_uri": "https://localhost:8080/"
    },
    "id": "Sj_fcZ_heLi5",
    "outputId": "50286379-be98-4162-d89e-8c39b834e488"
   },
   "outputs": [
    {
     "name": "stdout",
     "output_type": "stream",
     "text": [
      "* <Catalog id=test-catalog>\n",
      "  * <Item id=local-image>\n"
     ]
    }
   ],
   "source": [
    "catalog.describe()"
   ]
  },
  {
   "cell_type": "markdown",
   "metadata": {
    "id": "unXgBPNReLi5"
   },
   "source": [
    "### Adding Assets\n",
    "\n",
    "We've created an Item, but there aren't any assets associated with it. Let's create one:"
   ]
  },
  {
   "cell_type": "code",
   "execution_count": 25,
   "metadata": {
    "colab": {
     "base_uri": "https://localhost:8080/"
    },
    "id": "AypSSRgleLi5",
    "outputId": "80265eef-8ccf-41e5-9477-243d49937751"
   },
   "outputs": [
    {
     "name": "stdout",
     "output_type": "stream",
     "text": [
      "An object that contains a link to data associated with an Item or Collection that\n",
      "    can be downloaded or streamed.\n",
      "\n",
      "    Args:\n",
      "        href : Link to the asset object. Relative and absolute links are both\n",
      "            allowed.\n",
      "        title : Optional displayed title for clients and users.\n",
      "        description : A description of the Asset providing additional details,\n",
      "            such as how it was processed or created. CommonMark 0.29 syntax MAY be used\n",
      "            for rich text representation.\n",
      "        media_type : Optional description of the media type. Registered Media Types\n",
      "            are preferred. See :class:`~pystac.MediaType` for common media types.\n",
      "        roles : Optional, Semantic roles (i.e. thumbnail, overview,\n",
      "            data, metadata) of the asset.\n",
      "        extra_fields : Optional, additional fields for this asset. This is used\n",
      "            by extensions as a way to serialize and deserialize properties on asset\n",
      "            object JSON.\n",
      "    \n"
     ]
    }
   ],
   "source": [
    "print(pystac.Asset.__doc__)"
   ]
  },
  {
   "cell_type": "code",
   "execution_count": 26,
   "metadata": {
    "id": "URw0k6dmeLi6"
   },
   "outputs": [],
   "source": [
    "item.add_asset(\n",
    "    key='image', \n",
    "    asset=pystac.Asset(\n",
    "        href=img_path, \n",
    "        media_type=pystac.MediaType.GEOTIFF\n",
    "    )\n",
    ")"
   ]
  },
  {
   "cell_type": "markdown",
   "metadata": {
    "id": "OowgH8_keLi6"
   },
   "source": [
    "At any time we can call `to_dict()` on STAC objects to see how the STAC JSON is shaping up. Notice the asset is now set:"
   ]
  },
  {
   "cell_type": "code",
   "execution_count": 27,
   "metadata": {
    "colab": {
     "base_uri": "https://localhost:8080/"
    },
    "id": "2Z3Nj1fCeLi6",
    "outputId": "a66c01bf-e9e4-4ded-e1af-84a7570e7c87"
   },
   "outputs": [
    {
     "name": "stdout",
     "output_type": "stream",
     "text": [
      "{\n",
      "    \"type\": \"Feature\",\n",
      "    \"stac_version\": \"1.0.0\",\n",
      "    \"id\": \"local-image\",\n",
      "    \"properties\": {\n",
      "        \"datetime\": \"2022-06-17T17:35:33.733166Z\"\n",
      "    },\n",
      "    \"geometry\": {\n",
      "        \"type\": \"Polygon\",\n",
      "        \"coordinates\": [\n",
      "            [\n",
      "                [\n",
      "                    -111.63283187377722,\n",
      "                    35.21539644193983\n",
      "                ],\n",
      "                [\n",
      "                    -111.63283187377722,\n",
      "                    35.216923577922834\n",
      "                ],\n",
      "                [\n",
      "                    -111.63094541168057,\n",
      "                    35.216923577922834\n",
      "                ],\n",
      "                [\n",
      "                    -111.63094541168057,\n",
      "                    35.21539644193983\n",
      "                ],\n",
      "                [\n",
      "                    -111.63283187377722,\n",
      "                    35.21539644193983\n",
      "                ]\n",
      "            ]\n",
      "        ]\n",
      "    },\n",
      "    \"links\": [\n",
      "        {\n",
      "            \"rel\": \"root\",\n",
      "            \"href\": null,\n",
      "            \"type\": \"application/json\"\n",
      "        },\n",
      "        {\n",
      "            \"rel\": \"parent\",\n",
      "            \"href\": null,\n",
      "            \"type\": \"application/json\"\n",
      "        }\n",
      "    ],\n",
      "    \"assets\": {\n",
      "        \"image\": {\n",
      "            \"href\": \"0-croplands_2020-02-07_2021-02-01.tif\",\n",
      "            \"type\": \"image/tiff; application=geotiff\"\n",
      "        }\n",
      "    },\n",
      "    \"bbox\": [\n",
      "        -111.63283187377722,\n",
      "        35.21539644193983,\n",
      "        -111.63094541168057,\n",
      "        35.216923577922834\n",
      "    ],\n",
      "    \"stac_extensions\": []\n",
      "}\n"
     ]
    }
   ],
   "source": [
    "import json\n",
    "print(json.dumps(item.to_dict(), indent=4))"
   ]
  },
  {
   "cell_type": "markdown",
   "metadata": {
    "id": "juvHBEAceLi6"
   },
   "source": [
    "Note that the link `href` properties are `null`. This is OK, as we're working with the STAC in memory. Next, we'll talk about writing the catalog out, and how to set those HREFs."
   ]
  },
  {
   "cell_type": "markdown",
   "metadata": {
    "id": "FuYHfsuHeLi6"
   },
   "source": [
    "### Saving the catalog"
   ]
  },
  {
   "cell_type": "markdown",
   "metadata": {
    "id": "reh7u9z_eLi7"
   },
   "source": [
    "As the JSON above indicates, there's no HREFs set on these in-memory items. PySTAC uses the `self` link on STAC objects to track where the file lives. Because we haven't set them, they evaluate to `None`:"
   ]
  },
  {
   "cell_type": "code",
   "execution_count": 28,
   "metadata": {
    "colab": {
     "base_uri": "https://localhost:8080/"
    },
    "id": "HUBFvJhveLi7",
    "outputId": "51a8b641-8aad-4d94-a4d2-d863318881d3"
   },
   "outputs": [
    {
     "name": "stdout",
     "output_type": "stream",
     "text": [
      "True\n",
      "True\n"
     ]
    }
   ],
   "source": [
    "print(catalog.get_self_href() is None)\n",
    "print(item.get_self_href() is None)"
   ]
  },
  {
   "cell_type": "markdown",
   "metadata": {
    "id": "7d8MbMR2eLi7"
   },
   "source": [
    "In order to set them, we can use `normalize_hrefs`. This method will create a normalized set of HREFs for each STAC object in the catalog, according to the [best practices document](https://github.com/radiantearth/stac-spec/blob/v0.8.1/best-practices.md#catalog-layout)'s recommendations on how to lay out a catalog."
   ]
  },
  {
   "cell_type": "code",
   "execution_count": 29,
   "metadata": {
    "id": "kAIUS_TCeLi7"
   },
   "outputs": [],
   "source": [
    "catalog.normalize_hrefs(os.path.join(tmp_dir.name, 'stac'))"
   ]
  },
  {
   "cell_type": "markdown",
   "metadata": {
    "id": "2NXJk-zgeLi7"
   },
   "source": [
    "Now that we've normalized to a root directory (the temporary directory), we see that the `self` links are set:"
   ]
  },
  {
   "cell_type": "code",
   "execution_count": 30,
   "metadata": {
    "colab": {
     "base_uri": "https://localhost:8080/"
    },
    "id": "A1iD-uz7eLi8",
    "outputId": "1e3d96a5-e24b-4c90-b8a7-407428a1b2e0"
   },
   "outputs": [
    {
     "name": "stdout",
     "output_type": "stream",
     "text": [
      "/var/folders/dr/8s58ng3j2sq3kmlvcgz913br0000gp/T/tmpm1vgch4u/stac/catalog.json\n",
      "/var/folders/dr/8s58ng3j2sq3kmlvcgz913br0000gp/T/tmpm1vgch4u/stac/local-image/local-image.json\n"
     ]
    }
   ],
   "source": [
    "print(catalog.get_self_href())\n",
    "print(item.get_self_href())"
   ]
  },
  {
   "cell_type": "markdown",
   "metadata": {
    "id": "NCt1xivmeLi8"
   },
   "source": [
    "We can now call `save` on the catalog, which will recursively save all the STAC objects to their respective self HREFs.\n",
    "\n",
    "Save requires a `CatalogType` to be set. You can review the [API docs](https://pystac.readthedocs.io/en/stable/api.html#catalogtype) on `CatalogType` to see what each type means (unfortunately `help` doesn't show docstrings for attributes)."
   ]
  },
  {
   "cell_type": "code",
   "execution_count": 31,
   "metadata": {
    "id": "9oRJyUW_eLi8"
   },
   "outputs": [],
   "source": [
    "catalog.save(catalog_type=pystac.CatalogType.SELF_CONTAINED)"
   ]
  },
  {
   "cell_type": "code",
   "execution_count": 32,
   "metadata": {
    "colab": {
     "base_uri": "https://localhost:8080/"
    },
    "id": "w_cmDecQeLi8",
    "outputId": "1b0b49c6-ca95-4fe4-e958-64f84f7a44b4"
   },
   "outputs": [
    {
     "name": "stdout",
     "output_type": "stream",
     "text": [
      "/var/folders/dr/8s58ng3j2sq3kmlvcgz913br0000gp/T/tmpm1vgch4u/stac/catalog.json\r\n",
      "\r\n",
      "/var/folders/dr/8s58ng3j2sq3kmlvcgz913br0000gp/T/tmpm1vgch4u/stac/local-image:\r\n",
      "local-image.json\r\n"
     ]
    }
   ],
   "source": [
    "!ls {tmp_dir.name}/stac/*"
   ]
  },
  {
   "cell_type": "code",
   "execution_count": 33,
   "metadata": {
    "colab": {
     "base_uri": "https://localhost:8080/"
    },
    "id": "XKL3OpgleLi8",
    "outputId": "ec351f20-5f26-429f-9e31-ea4115fa518a"
   },
   "outputs": [
    {
     "name": "stdout",
     "output_type": "stream",
     "text": [
      "{\n",
      "  \"type\": \"Feature\",\n",
      "  \"stac_version\": \"1.0.0\",\n",
      "  \"id\": \"local-image\",\n",
      "  \"properties\": {\n",
      "    \"datetime\": \"2022-06-17T17:35:33.733166Z\"\n",
      "  },\n",
      "  \"geometry\": {\n",
      "    \"type\": \"Polygon\",\n",
      "    \"coordinates\": [\n",
      "      [\n",
      "        [\n",
      "          -111.63283187377722,\n",
      "          35.21539644193983\n",
      "        ],\n",
      "        [\n",
      "          -111.63283187377722,\n",
      "          35.216923577922834\n",
      "        ],\n",
      "        [\n",
      "          -111.63094541168057,\n",
      "          35.216923577922834\n",
      "        ],\n",
      "        [\n",
      "          -111.63094541168057,\n",
      "          35.21539644193983\n",
      "        ],\n",
      "        [\n",
      "          -111.63283187377722,\n",
      "          35.21539644193983\n",
      "        ]\n",
      "      ]\n",
      "    ]\n",
      "  },\n",
      "  \"links\": [\n",
      "    {\n",
      "      \"rel\": \"root\",\n",
      "      \"href\": \"../catalog.json\",\n",
      "      \"type\": \"application/json\"\n",
      "    },\n",
      "    {\n",
      "      \"rel\": \"parent\",\n",
      "      \"href\": \"../catalog.json\",\n",
      "      \"type\": \"application/json\"\n",
      "    }\n",
      "  ],\n",
      "  \"assets\": {\n",
      "    \"image\": {\n",
      "      \"href\": \"0-croplands_2020-02-07_2021-02-01.tif\",\n",
      "      \"type\": \"image/tiff; application=geotiff\"\n",
      "    }\n",
      "  },\n",
      "  \"bbox\": [\n",
      "    -111.63283187377722,\n",
      "    35.21539644193983,\n",
      "    -111.63094541168057,\n",
      "    35.216923577922834\n",
      "  ],\n",
      "  \"stac_extensions\": []\n",
      "}\n"
     ]
    }
   ],
   "source": [
    "with open(item.self_href) as f:\n",
    "    print(f.read())"
   ]
  },
  {
   "cell_type": "code",
   "execution_count": 34,
   "metadata": {
    "colab": {
     "base_uri": "https://localhost:8080/"
    },
    "id": "XPrPjWcUeLi9",
    "outputId": "ff30ba10-b6c8-4329-c1da-d0bb7502b98f"
   },
   "outputs": [
    {
     "name": "stdout",
     "output_type": "stream",
     "text": [
      "{\n",
      "  \"type\": \"Feature\",\n",
      "  \"stac_version\": \"1.0.0\",\n",
      "  \"id\": \"local-image\",\n",
      "  \"properties\": {\n",
      "    \"datetime\": \"2022-06-17T17:35:33.733166Z\"\n",
      "  },\n",
      "  \"geometry\": {\n",
      "    \"type\": \"Polygon\",\n",
      "    \"coordinates\": [\n",
      "      [\n",
      "        [\n",
      "          -111.63283187377722,\n",
      "          35.21539644193983\n",
      "        ],\n",
      "        [\n",
      "          -111.63283187377722,\n",
      "          35.216923577922834\n",
      "        ],\n",
      "        [\n",
      "          -111.63094541168057,\n",
      "          35.216923577922834\n",
      "        ],\n",
      "        [\n",
      "          -111.63094541168057,\n",
      "          35.21539644193983\n",
      "        ],\n",
      "        [\n",
      "          -111.63283187377722,\n",
      "          35.21539644193983\n",
      "        ]\n",
      "      ]\n",
      "    ]\n",
      "  },\n",
      "  \"links\": [\n",
      "    {\n",
      "      \"rel\": \"root\",\n",
      "      \"href\": \"../catalog.json\",\n",
      "      \"type\": \"application/json\"\n",
      "    },\n",
      "    {\n",
      "      \"rel\": \"parent\",\n",
      "      \"href\": \"../catalog.json\",\n",
      "      \"type\": \"application/json\"\n",
      "    }\n",
      "  ],\n",
      "  \"assets\": {\n",
      "    \"image\": {\n",
      "      \"href\": \"0-croplands_2020-02-07_2021-02-01.tif\",\n",
      "      \"type\": \"image/tiff; application=geotiff\"\n",
      "    }\n",
      "  },\n",
      "  \"bbox\": [\n",
      "    -111.63283187377722,\n",
      "    35.21539644193983,\n",
      "    -111.63094541168057,\n",
      "    35.216923577922834\n",
      "  ],\n",
      "  \"stac_extensions\": []\n",
      "}\n"
     ]
    }
   ],
   "source": [
    "with open(item.self_href) as f:\n",
    "    print(f.read())"
   ]
  },
  {
   "cell_type": "markdown",
   "metadata": {
    "id": "e5ewqeXAeLi9"
   },
   "source": [
    "As you can see, all links are saved with relative paths. That's because we used `catalog_type=CatalogType.SELF_CONTAINED`. If we save an Absolute Published catalog, we'll see absolute paths:"
   ]
  },
  {
   "cell_type": "code",
   "execution_count": 35,
   "metadata": {
    "id": "oBgWdceaeLi9"
   },
   "outputs": [],
   "source": [
    "# catalog.save(catalog_type=pystac.CatalogType.ABSOLUTE_PUBLISHED)"
   ]
  },
  {
   "cell_type": "markdown",
   "metadata": {
    "id": "KsvjO92SeLi9"
   },
   "source": [
    "Now the links included in the STAC item are all absolute:"
   ]
  },
  {
   "cell_type": "code",
   "execution_count": 36,
   "metadata": {
    "id": "2b8yK-AHeLi9",
    "outputId": "50a71137-15a8-4e14-d892-aeb3c641cf8b"
   },
   "outputs": [],
   "source": [
    "# with open(item.get_self_href()) as f:\n",
    "#     print(f.read())"
   ]
  },
  {
   "cell_type": "markdown",
   "metadata": {
    "id": "njA2hHu7eLi-"
   },
   "source": [
    "Notice that the Asset HREF is absolute in both cases. We can make the Asset HREF relative to the STAC Item by using `.make_all_asset_hrefs_relative()`:"
   ]
  },
  {
   "cell_type": "code",
   "execution_count": 37,
   "metadata": {
    "id": "f8aqq8oreLi-"
   },
   "outputs": [],
   "source": [
    "catalog.make_all_asset_hrefs_relative()\n",
    "catalog.save(catalog_type=pystac.CatalogType.SELF_CONTAINED)"
   ]
  },
  {
   "cell_type": "code",
   "execution_count": 38,
   "metadata": {
    "colab": {
     "base_uri": "https://localhost:8080/"
    },
    "id": "TtJrl85qeLjA",
    "outputId": "e50f29f0-eb72-4247-9296-997061caabdd"
   },
   "outputs": [
    {
     "name": "stdout",
     "output_type": "stream",
     "text": [
      "{\n",
      "  \"type\": \"Feature\",\n",
      "  \"stac_version\": \"1.0.0\",\n",
      "  \"id\": \"local-image\",\n",
      "  \"properties\": {\n",
      "    \"datetime\": \"2022-06-17T17:35:33.733166Z\"\n",
      "  },\n",
      "  \"geometry\": {\n",
      "    \"type\": \"Polygon\",\n",
      "    \"coordinates\": [\n",
      "      [\n",
      "        [\n",
      "          -111.63283187377722,\n",
      "          35.21539644193983\n",
      "        ],\n",
      "        [\n",
      "          -111.63283187377722,\n",
      "          35.216923577922834\n",
      "        ],\n",
      "        [\n",
      "          -111.63094541168057,\n",
      "          35.216923577922834\n",
      "        ],\n",
      "        [\n",
      "          -111.63094541168057,\n",
      "          35.21539644193983\n",
      "        ],\n",
      "        [\n",
      "          -111.63283187377722,\n",
      "          35.21539644193983\n",
      "        ]\n",
      "      ]\n",
      "    ]\n",
      "  },\n",
      "  \"links\": [\n",
      "    {\n",
      "      \"rel\": \"root\",\n",
      "      \"href\": \"../catalog.json\",\n",
      "      \"type\": \"application/json\"\n",
      "    },\n",
      "    {\n",
      "      \"rel\": \"parent\",\n",
      "      \"href\": \"../catalog.json\",\n",
      "      \"type\": \"application/json\"\n",
      "    }\n",
      "  ],\n",
      "  \"assets\": {\n",
      "    \"image\": {\n",
      "      \"href\": \"0-croplands_2020-02-07_2021-02-01.tif\",\n",
      "      \"type\": \"image/tiff; application=geotiff\"\n",
      "    }\n",
      "  },\n",
      "  \"bbox\": [\n",
      "    -111.63283187377722,\n",
      "    35.21539644193983,\n",
      "    -111.63094541168057,\n",
      "    35.216923577922834\n",
      "  ],\n",
      "  \"stac_extensions\": []\n",
      "}\n"
     ]
    }
   ],
   "source": [
    "with open(item.get_self_href()) as f:\n",
    "    print(f.read())"
   ]
  },
  {
   "cell_type": "markdown",
   "metadata": {
    "id": "-XIZoTMbeLjA"
   },
   "source": [
    "### Creating an Item that implements the EO extension\n",
    "\n",
    "In the code above our item only implemented the core STAC Item specification. With [extensions](https://github.com/radiantearth/stac-spec/tree/v0.9.0/extensions) we can record more information and add additional functionality to the Item. Given that we know this is a World View 3 image that has earth observation data, we can enable the [eo extension](https://github.com/radiantearth/stac-spec/tree/v0.8.1/extensions/eo) to add band information."
   ]
  },
  {
   "cell_type": "markdown",
   "metadata": {
    "id": "ra0oqfGFeLjA"
   },
   "source": [
    "To add eo information to an item we'll need to specify some more data. First, let's define the bands of World View 3:"
   ]
  },
  {
   "cell_type": "code",
   "execution_count": 39,
   "metadata": {
    "id": "u8oQjnhVeLjA"
   },
   "outputs": [],
   "source": [
    "from pystac.extensions.eo import Band, EOExtension\n",
    "\n",
    "# From: https://www.spaceimagingme.com/downloads/sensors/datasheets/DG_WorldView3_DS_2014.pdf\n",
    "\n",
    "wv3_bands = [Band.create(name='Coastal', description='Coastal: 400 - 450 nm', common_name='coastal'),\n",
    "             Band.create(name='Blue', description='Blue: 450 - 510 nm', common_name='blue'),\n",
    "             Band.create(name='Green', description='Green: 510 - 580 nm', common_name='green'),\n",
    "             Band.create(name='Yellow', description='Yellow: 585 - 625 nm', common_name='yellow'),\n",
    "             Band.create(name='Red', description='Red: 630 - 690 nm', common_name='red'),\n",
    "             Band.create(name='Red Edge', description='Red Edge: 705 - 745 nm', common_name='rededge'),\n",
    "             Band.create(name='Near-IR1', description='Near-IR1: 770 - 895 nm', common_name='nir08'),\n",
    "             Band.create(name='Near-IR2', description='Near-IR2: 860 - 1040 nm', common_name='nir09')]"
   ]
  },
  {
   "cell_type": "markdown",
   "metadata": {
    "id": "VowTkOk1eLjA"
   },
   "source": [
    "Notice that we used the `.create` method create new band information."
   ]
  },
  {
   "cell_type": "markdown",
   "metadata": {
    "id": "AGqs-S0HeLjB"
   },
   "source": [
    "We can now create an Item, enable the eo extension, add the band information and add it to our catalog:"
   ]
  },
  {
   "cell_type": "code",
   "execution_count": null,
   "metadata": {
    "id": "prrt-7x9eLjB"
   },
   "outputs": [],
   "source": [
    "eo_item = pystac.Item(id='local-image-eo',\n",
    "                      geometry=footprint,\n",
    "                      bbox=bbox,\n",
    "                      datetime=datetime.utcnow(),\n",
    "                      properties={})\n",
    "eo = EOExtension.ext(eo_item, add_if_missing=True)\n",
    "eo.apply(bands=wv3_bands)"
   ]
  },
  {
   "cell_type": "markdown",
   "metadata": {
    "id": "7axv6Bh3eLjB"
   },
   "source": [
    "There are also [common metadata](https://github.com/radiantearth/stac-spec/blob/v0.9.0/item-spec/common-metadata.md) fields that we can use to capture additional information about the WorldView 3 imagery:"
   ]
  },
  {
   "cell_type": "code",
   "execution_count": null,
   "metadata": {
    "id": "A5TvviE3eLjB"
   },
   "outputs": [],
   "source": [
    "eo_item.common_metadata.platform = \"Maxar\"\n",
    "eo_item.common_metadata.instruments = [\"WorldView3\"]\n",
    "eo_item.common_metadata.gsd = 0.3"
   ]
  },
  {
   "cell_type": "code",
   "execution_count": null,
   "metadata": {
    "id": "IiV_f5cbeLjB",
    "outputId": "f108fc90-7dbc-4d61-8947-184f571950cf"
   },
   "outputs": [
    {
     "name": "stdout",
     "output_type": "stream",
     "text": [
      "<Item id=local-image-eo>\n"
     ]
    }
   ],
   "source": [
    "print(eo_item)"
   ]
  },
  {
   "cell_type": "markdown",
   "metadata": {
    "id": "CHjCPJa3eLjB"
   },
   "source": [
    "We can use the eo extension to add bands to the assets we add to the item:"
   ]
  },
  {
   "cell_type": "code",
   "execution_count": null,
   "metadata": {
    "id": "y4_778-SeLjC"
   },
   "outputs": [],
   "source": [
    "asset = pystac.Asset(href=img_path, \n",
    "                     media_type=pystac.MediaType.GEOTIFF)\n",
    "eo_item.add_asset(\"image\", asset)\n",
    "eo_on_asset = EOExtension.ext(eo_item.assets[\"image\"])\n",
    "eo_on_asset.apply(wv3_bands)"
   ]
  },
  {
   "cell_type": "markdown",
   "metadata": {
    "id": "Izg3oXBOeLjC"
   },
   "source": [
    "If we look at the asset's JSON representation, we can see the appropriate band indexes are set:"
   ]
  },
  {
   "cell_type": "code",
   "execution_count": null,
   "metadata": {
    "id": "6p_gfkrHeLjC",
    "outputId": "cbe34221-5793-4869-b827-74bdeeed64c1"
   },
   "outputs": [
    {
     "data": {
      "text/plain": [
       "{'href': '/var/folders/9z/lnsvqfqj4gs2d1j1nw3vynrm0000gn/T/tmpzpx86d17/image.tif',\n",
       " 'type': <MediaType.GEOTIFF: 'image/tiff; application=geotiff'>,\n",
       " 'eo:bands': [{'name': 'Coastal',\n",
       "   'common_name': 'coastal',\n",
       "   'description': 'Coastal: 400 - 450 nm'},\n",
       "  {'name': 'Blue', 'common_name': 'blue', 'description': 'Blue: 450 - 510 nm'},\n",
       "  {'name': 'Green',\n",
       "   'common_name': 'green',\n",
       "   'description': 'Green: 510 - 580 nm'},\n",
       "  {'name': 'Yellow',\n",
       "   'common_name': 'yellow',\n",
       "   'description': 'Yellow: 585 - 625 nm'},\n",
       "  {'name': 'Red', 'common_name': 'red', 'description': 'Red: 630 - 690 nm'},\n",
       "  {'name': 'Red Edge',\n",
       "   'common_name': 'rededge',\n",
       "   'description': 'Red Edge: 705 - 745 nm'},\n",
       "  {'name': 'Near-IR1',\n",
       "   'common_name': 'nir08',\n",
       "   'description': 'Near-IR1: 770 - 895 nm'},\n",
       "  {'name': 'Near-IR2',\n",
       "   'common_name': 'nir09',\n",
       "   'description': 'Near-IR2: 860 - 1040 nm'}]}"
      ]
     },
     "execution_count": 37,
     "metadata": {},
     "output_type": "execute_result"
    }
   ],
   "source": [
    "asset.to_dict()"
   ]
  },
  {
   "cell_type": "markdown",
   "metadata": {
    "id": "FsTgzo1KeLjC"
   },
   "source": [
    "Let's clear the in-memory catalog, add the EO item, and save to a new STAC:"
   ]
  },
  {
   "cell_type": "code",
   "execution_count": null,
   "metadata": {
    "id": "4mkIc5ldeLjC",
    "outputId": "68775c54-71aa-405e-f931-43d74670ef4b"
   },
   "outputs": [
    {
     "data": {
      "text/plain": [
       "[]"
      ]
     },
     "execution_count": 38,
     "metadata": {},
     "output_type": "execute_result"
    }
   ],
   "source": [
    "catalog.clear_items()\n",
    "list(catalog.get_items())"
   ]
  },
  {
   "cell_type": "code",
   "execution_count": null,
   "metadata": {
    "id": "SOOAM_9-eLjC",
    "outputId": "661963b8-9e48-4198-8698-dd80a759fc8d"
   },
   "outputs": [
    {
     "data": {
      "text/plain": [
       "[<Item id=local-image-eo>]"
      ]
     },
     "execution_count": 39,
     "metadata": {},
     "output_type": "execute_result"
    }
   ],
   "source": [
    "catalog.add_item(eo_item)\n",
    "list(catalog.get_items())"
   ]
  },
  {
   "cell_type": "code",
   "execution_count": null,
   "metadata": {
    "id": "0tj9xgR8eLjC"
   },
   "outputs": [],
   "source": [
    "catalog.normalize_and_save(root_href=os.path.join(tmp_dir.name, 'stac-eo'), \n",
    "                           catalog_type=pystac.CatalogType.SELF_CONTAINED)"
   ]
  },
  {
   "cell_type": "markdown",
   "metadata": {
    "id": "lUlwaCxYeLjD"
   },
   "source": [
    "Now, if we read the catalog from the filesystem, PySTAC recognizes that the item implements eo and so use it's functionality, e.g. getting the bands off the asset:"
   ]
  },
  {
   "cell_type": "code",
   "execution_count": null,
   "metadata": {
    "id": "tpaUgDs-eLjD"
   },
   "outputs": [],
   "source": [
    "catalog2 = pystac.read_file(os.path.join(tmp_dir.name, 'stac-eo', 'catalog.json'))"
   ]
  },
  {
   "cell_type": "code",
   "execution_count": null,
   "metadata": {
    "id": "qmSgsVKYeLjD",
    "outputId": "8d27e37b-bd04-4ec2-87c7-abc5a6d3e138"
   },
   "outputs": [
    {
     "data": {
      "text/plain": [
       "[<Item id=local-image-eo>]"
      ]
     },
     "execution_count": 42,
     "metadata": {},
     "output_type": "execute_result"
    }
   ],
   "source": [
    "assert isinstance(catalog2, pystac.Catalog)\n",
    "list(catalog2.get_items())"
   ]
  },
  {
   "cell_type": "code",
   "execution_count": null,
   "metadata": {
    "id": "oCoPI96ReLjD"
   },
   "outputs": [],
   "source": [
    "item: pystac.Item = next(catalog2.get_all_items())"
   ]
  },
  {
   "cell_type": "code",
   "execution_count": null,
   "metadata": {
    "id": "5OUwiE5EeLjD"
   },
   "outputs": [],
   "source": [
    "assert EOExtension.has_extension(item)"
   ]
  },
  {
   "cell_type": "code",
   "execution_count": null,
   "metadata": {
    "id": "xSHOdYg1eLjD",
    "outputId": "35205060-2f3a-486d-d2f5-291655b54fed"
   },
   "outputs": [
    {
     "name": "stdout",
     "output_type": "stream",
     "text": [
      "[<Band name=Coastal>, <Band name=Blue>, <Band name=Green>, <Band name=Yellow>, <Band name=Red>, <Band name=Red Edge>, <Band name=Near-IR1>, <Band name=Near-IR2>]\n"
     ]
    }
   ],
   "source": [
    "eo_on_asset = EOExtension.ext(item.assets[\"image\"])\n",
    "print(eo_on_asset.bands)"
   ]
  },
  {
   "cell_type": "markdown",
   "metadata": {
    "id": "zDrCbCIyeLjE"
   },
   "source": [
    "### Collections\n",
    "\n",
    "Collections are a subtype of Catalog that have some additional properties to make them more searchable. They also can define common properties so that items in the collection don't have to duplicate common data for each item. Let's create a collection to hold common properties between two images from the Spacenet 5 challenge.\n",
    "\n",
    "First we'll get another image, and it's bbox and footprint:"
   ]
  },
  {
   "cell_type": "code",
   "execution_count": null,
   "metadata": {
    "id": "YSX9h85PeLjE",
    "outputId": "710a29c8-3a80-41a7-e082-5fa94d6a0af8"
   },
   "outputs": [
    {
     "data": {
      "text/plain": [
       "('/var/folders/9z/lnsvqfqj4gs2d1j1nw3vynrm0000gn/T/tmpzpx86d17/image.tif',\n",
       " <http.client.HTTPMessage at 0x114dba130>)"
      ]
     },
     "execution_count": 46,
     "metadata": {},
     "output_type": "execute_result"
    }
   ],
   "source": [
    "url2 = ('https://spacenet-dataset.s3.amazonaws.com/'\n",
    "       'spacenet/SN5_roads/train/AOI_7_Moscow/MS/'\n",
    "       'SN5_roads_train_AOI_7_Moscow_MS_chip997.tif')\n",
    "img_path2 = os.path.join(tmp_dir.name, 'image.tif')\n",
    "urllib.request.urlretrieve(url2, img_path2)"
   ]
  },
  {
   "cell_type": "code",
   "execution_count": null,
   "metadata": {
    "id": "klNP1X3KeLjE"
   },
   "outputs": [],
   "source": [
    "bbox2, footprint2 = get_bbox_and_footprint(img_path2)"
   ]
  },
  {
   "cell_type": "markdown",
   "metadata": {
    "id": "ydCPLZzJeLjE"
   },
   "source": [
    "We can take a look at the pydocs for Collection to see what information we need to supply in order to satisfy the spec."
   ]
  },
  {
   "cell_type": "code",
   "execution_count": null,
   "metadata": {
    "id": "ZNMGK69FeLjE",
    "outputId": "a0f791fa-0150-4deb-d90a-eb3efddb7ac1"
   },
   "outputs": [
    {
     "name": "stdout",
     "output_type": "stream",
     "text": [
      "A Collection extends the Catalog spec with additional metadata that helps\n",
      "    enable discovery.\n",
      "\n",
      "    Args:\n",
      "        id : Identifier for the collection. Must be unique within the STAC.\n",
      "        description : Detailed multi-line description to fully explain the\n",
      "            collection. `CommonMark 0.28 syntax <https://commonmark.org/>`_ MAY\n",
      "            be used for rich text representation.\n",
      "        extent : Spatial and temporal extents that describe the bounds of\n",
      "            all items contained within this Collection.\n",
      "        title : Optional short descriptive one-line title for the\n",
      "            collection.\n",
      "        stac_extensions : Optional list of extensions the Collection\n",
      "            implements.\n",
      "        href : Optional HREF for this collection, which be set as the\n",
      "            collection's self link's HREF.\n",
      "        catalog_type : Optional catalog type for this catalog. Must\n",
      "            be one of the values in :class`~pystac.CatalogType`.\n",
      "        license :  Collection's license(s) as a\n",
      "            `SPDX License identifier <https://spdx.org/licenses/>`_,\n",
      "            `various`, or `proprietary`. If collection includes\n",
      "            data with multiple different licenses, use `various` and add a link for\n",
      "            each. Defaults to 'proprietary'.\n",
      "        keywords : Optional list of keywords describing the collection.\n",
      "        providers : Optional list of providers of this Collection.\n",
      "        summaries : An optional map of property summaries,\n",
      "            either a set of values or statistics such as a range.\n",
      "        extra_fields : Extra fields that are part of the top-level\n",
      "            JSON properties of the Collection.\n",
      "    \n"
     ]
    }
   ],
   "source": [
    "print(pystac.Collection.__doc__)"
   ]
  },
  {
   "cell_type": "markdown",
   "metadata": {
    "id": "qqZgxIiTeLjF"
   },
   "source": [
    "Beyond what a Catalog reqiures, a Collection requires a license, and an `Extent` that describes the range of space and time that the items it hold occupy."
   ]
  },
  {
   "cell_type": "code",
   "execution_count": null,
   "metadata": {
    "id": "eKHq0wDveLjF",
    "outputId": "0067bb5f-ba32-403a-b431-d1e99ba53cd9"
   },
   "outputs": [
    {
     "name": "stdout",
     "output_type": "stream",
     "text": [
      "Describes the spatiotemporal extents of a Collection.\n",
      "\n",
      "    Args:\n",
      "        spatial : Potential spatial extent covered by the collection.\n",
      "        temporal : Potential temporal extent covered by the collection.\n",
      "        extra_fields : Dictionary containing additional top-level fields defined on the\n",
      "            Extent object.\n",
      "    \n"
     ]
    }
   ],
   "source": [
    "print(pystac.Extent.__doc__)"
   ]
  },
  {
   "cell_type": "markdown",
   "metadata": {
    "id": "fUTrITJbeLjF"
   },
   "source": [
    "An Extent is comprised of a SpatialExtent and a TemporalExtent. These hold one or more bounding boxes and time intervals, respectively, that completely  cover the items contained in the collections.\n",
    "\n",
    "Let's start with creating two new items - these will be core Items. We can set these items to implement the `eo` extension by specifying them in the `stac_extensions`."
   ]
  },
  {
   "cell_type": "code",
   "execution_count": null,
   "metadata": {
    "id": "M6w-_mRKeLjF"
   },
   "outputs": [],
   "source": [
    "collection_item = pystac.Item(id='local-image-col-1',\n",
    "                               geometry=footprint,\n",
    "                               bbox=bbox,\n",
    "                               datetime=datetime.utcnow(),\n",
    "                               properties={})\n",
    "\n",
    "collection_item.common_metadata.gsd = 0.3\n",
    "collection_item.common_metadata.platform = 'Maxar'\n",
    "collection_item.common_metadata.instruments = ['WorldView3']\n",
    "\n",
    "asset = pystac.Asset(href=img_path, \n",
    "                      media_type=pystac.MediaType.GEOTIFF)\n",
    "collection_item.add_asset(\"image\", asset)\n",
    "eo = EOExtension.ext(collection_item.assets[\"image\"], add_if_missing=True)\n",
    "eo.apply(wv3_bands)\n",
    "\n",
    "collection_item2 = pystac.Item(id='local-image-col-2',\n",
    "                               geometry=footprint2,\n",
    "                               bbox=bbox2,\n",
    "                               datetime=datetime.utcnow(),\n",
    "                               properties={})\n",
    "\n",
    "collection_item2.common_metadata.gsd = 0.3\n",
    "collection_item2.common_metadata.platform = 'Maxar'\n",
    "collection_item2.common_metadata.instruments = ['WorldView3']\n",
    "\n",
    "asset2 = pystac.Asset(href=img_path,\n",
    "                     media_type=pystac.MediaType.GEOTIFF)\n",
    "collection_item2.add_asset(\"image\", asset2)\n",
    "eo = EOExtension.ext(collection_item2.assets[\"image\"], add_if_missing=True)\n",
    "eo.apply([\n",
    "    band for band in wv3_bands if band.name in [\"Red\", \"Green\", \"Blue\"]\n",
    "])\n"
   ]
  },
  {
   "cell_type": "markdown",
   "metadata": {
    "id": "iQrh3IrdeLjF"
   },
   "source": [
    "We can use our two items' metadata to find out what the proper bounds are:"
   ]
  },
  {
   "cell_type": "code",
   "execution_count": null,
   "metadata": {
    "id": "Q1oHPrmTeLjF"
   },
   "outputs": [],
   "source": [
    "from shapely.geometry import shape\n",
    "\n",
    "unioned_footprint = shape(footprint).union(shape(footprint2))\n",
    "collection_bbox = list(unioned_footprint.bounds)\n",
    "spatial_extent = pystac.SpatialExtent(bboxes=[collection_bbox])"
   ]
  },
  {
   "cell_type": "code",
   "execution_count": null,
   "metadata": {
    "id": "7x8XQb6BeLjG"
   },
   "outputs": [],
   "source": [
    "collection_interval = sorted([collection_item.datetime, collection_item2.datetime])\n",
    "temporal_extent = pystac.TemporalExtent(intervals=[collection_interval])"
   ]
  },
  {
   "cell_type": "code",
   "execution_count": null,
   "metadata": {
    "id": "FonSrLXHeLjG"
   },
   "outputs": [],
   "source": [
    "collection_extent = pystac.Extent(spatial=spatial_extent, temporal=temporal_extent)"
   ]
  },
  {
   "cell_type": "code",
   "execution_count": null,
   "metadata": {
    "id": "WwEo-kCYeLjG"
   },
   "outputs": [],
   "source": [
    "collection = pystac.Collection(id='wv3-images',\n",
    "                               description='Spacenet 5 images over Moscow',\n",
    "                               extent=collection_extent,\n",
    "                               license='CC-BY-SA-4.0')"
   ]
  },
  {
   "cell_type": "markdown",
   "metadata": {
    "id": "-n7sAxyTeLjG"
   },
   "source": [
    "Now if we add our items to our Collection, and our Collection to our Catalog, we get the following STAC that can be saved:"
   ]
  },
  {
   "cell_type": "code",
   "execution_count": null,
   "metadata": {
    "id": "gDgky5cSeLjG"
   },
   "outputs": [],
   "source": [
    "collection.add_items([collection_item, collection_item2])"
   ]
  },
  {
   "cell_type": "code",
   "execution_count": null,
   "metadata": {
    "id": "0_BJBwhxeLjG"
   },
   "outputs": [],
   "source": [
    "catalog.clear_items()\n",
    "catalog.clear_children()\n",
    "catalog.add_child(collection)"
   ]
  },
  {
   "cell_type": "code",
   "execution_count": null,
   "metadata": {
    "id": "6ZB0Q64FeLjG",
    "outputId": "250daaa6-015e-46d9-a7dc-698fd594ea39"
   },
   "outputs": [
    {
     "name": "stdout",
     "output_type": "stream",
     "text": [
      "* <Catalog id=test-catalog>\n",
      "    * <Collection id=wv3-images>\n",
      "      * <Item id=local-image-col-1>\n",
      "      * <Item id=local-image-col-2>\n"
     ]
    }
   ],
   "source": [
    "catalog.describe()"
   ]
  },
  {
   "cell_type": "code",
   "execution_count": null,
   "metadata": {
    "id": "TVr-KRmSeLjH"
   },
   "outputs": [],
   "source": [
    "catalog.normalize_and_save(root_href=os.path.join(tmp_dir.name, 'stac-collection'), \n",
    "                           catalog_type=pystac.CatalogType.SELF_CONTAINED)"
   ]
  },
  {
   "cell_type": "markdown",
   "metadata": {
    "id": "y-abFFG3eLjH"
   },
   "source": [
    "### Cleanup\n",
    "\n",
    "Don't forget to clean up the temporary directory!"
   ]
  },
  {
   "cell_type": "code",
   "execution_count": null,
   "metadata": {
    "id": "ZQv1VH1reLjH"
   },
   "outputs": [],
   "source": [
    "tmp_dir.cleanup()"
   ]
  },
  {
   "cell_type": "markdown",
   "metadata": {
    "id": "d2466iefeLjH"
   },
   "source": [
    "## Creating a STAC of imagery from Spacenet 5 data"
   ]
  },
  {
   "cell_type": "markdown",
   "metadata": {
    "id": "Kbdflm8CeLjH"
   },
   "source": [
    "Now, let's take what we've learned and create a Catalog with more data in it.\n"
   ]
  },
  {
   "cell_type": "markdown",
   "metadata": {
    "id": "jDymvjx4eLjH"
   },
   "source": [
    "### Allowing PySTAC to read from AWS S3\n",
    "\n",
    "PySTAC aims to be virtually zero-dependency (notwithstanding the why-isn't-this-in-stdlib datetime-util), so it doesn't have the ability to read from or write to anything but the local file system. However, we can hook into PySTAC's IO in the following way. Learn more about how to customize I/O in STAC from the [documentation](https://pystac.readthedocs.io/en/stable/concepts.html#i-o-in-pystac):"
   ]
  },
  {
   "cell_type": "code",
   "execution_count": null,
   "metadata": {
    "id": "BmB0WCvXeLjH"
   },
   "outputs": [],
   "source": [
    "from typing import Union, Any\n",
    "from urllib.parse import urlparse\n",
    "\n",
    "import boto3\n",
    "from pystac import Link\n",
    "from pystac.stac_io import DefaultStacIO\n",
    "\n",
    "\n",
    "class CustomStacIO(DefaultStacIO):\n",
    "   def __init__(self):\n",
    "      self.s3 = boto3.resource(\"s3\")\n",
    "\n",
    "   def read_text(\n",
    "      self, source: Union[str, Link], *args: Any, **kwargs: Any\n",
    "   ) -> str:\n",
    "      parsed = urlparse(uri)\n",
    "      if parsed.scheme == \"s3\":\n",
    "         bucket = parsed.netloc\n",
    "         key = parsed.path[1:]\n",
    "\n",
    "         obj = self.s3.Object(bucket, key)\n",
    "         return obj.get()[\"Body\"].read().decode(\"utf-8\")\n",
    "      else:\n",
    "         return super().read_text(source, *args, **kwargs)\n",
    "\n",
    "   def write_text(\n",
    "      self, dest: Union[str, Link], txt: str, *args: Any, **kwargs: Any\n",
    "   ) -> None:\n",
    "      parsed = urlparse(uri)\n",
    "      if parsed.scheme == \"s3\":\n",
    "         bucket = parsed.netloc\n",
    "         key = parsed.path[1:]\n",
    "         self.s3.Object(bucket, key).put(Body=txt, ContentEncoding=\"utf-8\")\n",
    "      else:\n",
    "         super().write_text(dest, txt, *args, **kwargs)\n"
   ]
  },
  {
   "cell_type": "markdown",
   "metadata": {
    "id": "ShUY4-UweLjI"
   },
   "source": [
    "We'll need a utility to list keys for reading the lists of files from S3:"
   ]
  },
  {
   "cell_type": "code",
   "execution_count": null,
   "metadata": {
    "id": "PlZ8s6lHeLjI"
   },
   "outputs": [],
   "source": [
    "# From https://alexwlchan.net/2017/07/listing-s3-keys/\n",
    "from botocore import UNSIGNED\n",
    "from botocore.config import Config\n",
    "\n",
    "def get_s3_keys(bucket, prefix):\n",
    "    \"\"\"Generate all the keys in an S3 bucket.\"\"\"\n",
    "    s3 = boto3.client('s3', config=Config(signature_version=UNSIGNED))\n",
    "    kwargs = {'Bucket': bucket, 'Prefix': prefix}\n",
    "    while True:\n",
    "        resp = s3.list_objects_v2(**kwargs)\n",
    "        for obj in resp['Contents']:\n",
    "            yield obj['Key']\n",
    "\n",
    "        try:\n",
    "            kwargs['ContinuationToken'] = resp['NextContinuationToken']\n",
    "        except KeyError:\n",
    "            break"
   ]
  },
  {
   "cell_type": "markdown",
   "metadata": {
    "id": "awba3DRUeLjI"
   },
   "source": [
    "Let's make a STAC of imagery over Moscow as part of the Spacenet 5 challenge. As a first step, we can list out the imagery and extract IDs from each of the chips."
   ]
  },
  {
   "cell_type": "code",
   "execution_count": null,
   "metadata": {
    "id": "Fb0iJRt2eLjI"
   },
   "outputs": [],
   "source": [
    "moscow_training_chip_uris = list(get_s3_keys(bucket='spacenet-dataset', \n",
    "                                             prefix='spacenet/SN5_roads/train/AOI_7_Moscow/PS-MS/'))"
   ]
  },
  {
   "cell_type": "code",
   "execution_count": null,
   "metadata": {
    "id": "-RDU484KeLjI"
   },
   "outputs": [],
   "source": [
    "import re\n",
    "\n",
    "chip_id_to_data = {}\n",
    "\n",
    "def get_chip_id(uri):\n",
    "    return re.search(r'.*\\_chip(\\d+)\\.', uri).group(1)\n",
    "\n",
    "for uri in moscow_training_chip_uris:\n",
    "    chip_id = get_chip_id(uri)\n",
    "    chip_id_to_data[chip_id] = { 'img': 's3://spacenet-dataset/{}'.format(uri) }"
   ]
  },
  {
   "cell_type": "markdown",
   "metadata": {
    "id": "2HWLlKA4eLjI"
   },
   "source": [
    "For this tutorial, we'll only take a subset of the data."
   ]
  },
  {
   "cell_type": "code",
   "execution_count": null,
   "metadata": {
    "id": "lAdq8g_teLjJ"
   },
   "outputs": [],
   "source": [
    "chip_id_to_data = dict(list(chip_id_to_data.items())[:10])"
   ]
  },
  {
   "cell_type": "code",
   "execution_count": null,
   "metadata": {
    "id": "MNvMAOFzeLjJ",
    "outputId": "d0860bab-1055-4e65-fd46-79c8da31ac85"
   },
   "outputs": [
    {
     "data": {
      "text/plain": [
       "{'0': {'img': 's3://spacenet-dataset/spacenet/SN5_roads/train/AOI_7_Moscow/PS-MS/SN5_roads_train_AOI_7_Moscow_PS-MS_chip0.tif'},\n",
       " '1': {'img': 's3://spacenet-dataset/spacenet/SN5_roads/train/AOI_7_Moscow/PS-MS/SN5_roads_train_AOI_7_Moscow_PS-MS_chip1.tif'},\n",
       " '10': {'img': 's3://spacenet-dataset/spacenet/SN5_roads/train/AOI_7_Moscow/PS-MS/SN5_roads_train_AOI_7_Moscow_PS-MS_chip10.tif'},\n",
       " '100': {'img': 's3://spacenet-dataset/spacenet/SN5_roads/train/AOI_7_Moscow/PS-MS/SN5_roads_train_AOI_7_Moscow_PS-MS_chip100.tif'},\n",
       " '1000': {'img': 's3://spacenet-dataset/spacenet/SN5_roads/train/AOI_7_Moscow/PS-MS/SN5_roads_train_AOI_7_Moscow_PS-MS_chip1000.tif'},\n",
       " '1001': {'img': 's3://spacenet-dataset/spacenet/SN5_roads/train/AOI_7_Moscow/PS-MS/SN5_roads_train_AOI_7_Moscow_PS-MS_chip1001.tif'},\n",
       " '1002': {'img': 's3://spacenet-dataset/spacenet/SN5_roads/train/AOI_7_Moscow/PS-MS/SN5_roads_train_AOI_7_Moscow_PS-MS_chip1002.tif'},\n",
       " '1003': {'img': 's3://spacenet-dataset/spacenet/SN5_roads/train/AOI_7_Moscow/PS-MS/SN5_roads_train_AOI_7_Moscow_PS-MS_chip1003.tif'},\n",
       " '1004': {'img': 's3://spacenet-dataset/spacenet/SN5_roads/train/AOI_7_Moscow/PS-MS/SN5_roads_train_AOI_7_Moscow_PS-MS_chip1004.tif'},\n",
       " '1005': {'img': 's3://spacenet-dataset/spacenet/SN5_roads/train/AOI_7_Moscow/PS-MS/SN5_roads_train_AOI_7_Moscow_PS-MS_chip1005.tif'}}"
      ]
     },
     "execution_count": 67,
     "metadata": {},
     "output_type": "execute_result"
    }
   ],
   "source": [
    "chip_id_to_data"
   ]
  },
  {
   "cell_type": "markdown",
   "metadata": {
    "id": "0KgfXTEteLjJ"
   },
   "source": [
    "Let's turn each of those chips into a STAC Item that represents the image."
   ]
  },
  {
   "cell_type": "code",
   "execution_count": null,
   "metadata": {
    "id": "q7CcwUIQeLjJ"
   },
   "outputs": [],
   "source": [
    "chip_id_to_items = {}"
   ]
  },
  {
   "cell_type": "markdown",
   "metadata": {
    "id": "QDQKzpateLjJ"
   },
   "source": [
    "We'll create core `Item`s for our imagery, but mark them with the `eo` extension as we did above, and store the `eo` data in a `Collection`.\n",
    "\n",
    "Note that the image CRS is in WGS:84 (Lat/Lng). If it wasn't, we'd have to reproject the footprint to WGS:84 in order to be compliant with the spec (which can easily be done with [pyproj](https://github.com/pyproj4/pyproj)).\n",
    "\n",
    "Here we're taking advantage of `rasterio`'s ability to read S3 URIs, which only grabs the GeoTIFF metadata and does not pull the whole file down."
   ]
  },
  {
   "cell_type": "code",
   "execution_count": null,
   "metadata": {
    "id": "qLpT7WOUeLjJ",
    "outputId": "161238a7-fef7-4141-8833-0bb055e9120c"
   },
   "outputs": [
    {
     "name": "stdout",
     "output_type": "stream",
     "text": [
      "Processing s3://spacenet-dataset/spacenet/SN5_roads/train/AOI_7_Moscow/PS-MS/SN5_roads_train_AOI_7_Moscow_PS-MS_chip0.tif\n",
      "Processing s3://spacenet-dataset/spacenet/SN5_roads/train/AOI_7_Moscow/PS-MS/SN5_roads_train_AOI_7_Moscow_PS-MS_chip1.tif\n",
      "Processing s3://spacenet-dataset/spacenet/SN5_roads/train/AOI_7_Moscow/PS-MS/SN5_roads_train_AOI_7_Moscow_PS-MS_chip10.tif\n",
      "Processing s3://spacenet-dataset/spacenet/SN5_roads/train/AOI_7_Moscow/PS-MS/SN5_roads_train_AOI_7_Moscow_PS-MS_chip100.tif\n",
      "Processing s3://spacenet-dataset/spacenet/SN5_roads/train/AOI_7_Moscow/PS-MS/SN5_roads_train_AOI_7_Moscow_PS-MS_chip1000.tif\n",
      "Processing s3://spacenet-dataset/spacenet/SN5_roads/train/AOI_7_Moscow/PS-MS/SN5_roads_train_AOI_7_Moscow_PS-MS_chip1001.tif\n",
      "Processing s3://spacenet-dataset/spacenet/SN5_roads/train/AOI_7_Moscow/PS-MS/SN5_roads_train_AOI_7_Moscow_PS-MS_chip1002.tif\n",
      "Processing s3://spacenet-dataset/spacenet/SN5_roads/train/AOI_7_Moscow/PS-MS/SN5_roads_train_AOI_7_Moscow_PS-MS_chip1003.tif\n",
      "Processing s3://spacenet-dataset/spacenet/SN5_roads/train/AOI_7_Moscow/PS-MS/SN5_roads_train_AOI_7_Moscow_PS-MS_chip1004.tif\n",
      "Processing s3://spacenet-dataset/spacenet/SN5_roads/train/AOI_7_Moscow/PS-MS/SN5_roads_train_AOI_7_Moscow_PS-MS_chip1005.tif\n"
     ]
    }
   ],
   "source": [
    "import os\n",
    "os.environ[\"AWS_NO_SIGN_REQUEST\"] = \"true\"\n",
    "\n",
    "for chip_id in chip_id_to_data:\n",
    "    img_uri = chip_id_to_data[chip_id]['img']\n",
    "    print('Processing {}'.format(img_uri))\n",
    "    bbox, footprint = get_bbox_and_footprint(img_uri)\n",
    "\n",
    "    item = pystac.Item(id='img_{}'.format(chip_id), \n",
    "                       geometry=footprint,\n",
    "                       bbox=bbox,\n",
    "                       datetime=datetime.utcnow(),\n",
    "                       properties={})\n",
    "    \n",
    "    item.common_metadata.gsd = 0.3\n",
    "    item.common_metadata.platform = 'Maxar'\n",
    "    item.common_metadata.instruments = ['WorldView3']\n",
    "    \n",
    "    eo = EOExtension.ext(item, add_if_missing=True)\n",
    "    eo.bands = wv3_bands\n",
    "    asset = pystac.Asset(href=img_uri,\n",
    "                         media_type=pystac.MediaType.COG)\n",
    "    item.add_asset(key='ps-ms', asset=asset)\n",
    "    eo = EOExtension.ext(item.assets[\"ps-ms\"])\n",
    "    eo.bands = wv3_bands\n",
    "    chip_id_to_items[chip_id] = item"
   ]
  },
  {
   "cell_type": "markdown",
   "metadata": {
    "id": "FhdImiqAeLjK"
   },
   "source": [
    "### Creating the Collection\n",
    "\n",
    "All of these images are over Moscow. In Spacenet 5, we have a couple cities that have imagery; a good way to separate these collections of imagery. We can store all of the common `eo` metadata in the collection."
   ]
  },
  {
   "cell_type": "code",
   "execution_count": null,
   "metadata": {
    "id": "RAmum-ZWeLjK"
   },
   "outputs": [],
   "source": [
    "from shapely.geometry import (shape, MultiPolygon)\n",
    "\n",
    "footprints = list(map(lambda i: shape(i.geometry).envelope, \n",
    "                      chip_id_to_items.values()))\n",
    "collection_bbox = MultiPolygon(footprints).bounds\n",
    "spatial_extent = pystac.SpatialExtent(bboxes=[collection_bbox])"
   ]
  },
  {
   "cell_type": "code",
   "execution_count": null,
   "metadata": {
    "id": "GzxY1BeOeLjK"
   },
   "outputs": [],
   "source": [
    "datetimes = sorted(list(map(lambda i: i.datetime,\n",
    "                            chip_id_to_items.values())))\n",
    "temporal_extent = pystac.TemporalExtent(intervals=[[datetimes[0], datetimes[-1]]])"
   ]
  },
  {
   "cell_type": "code",
   "execution_count": null,
   "metadata": {
    "id": "95ApYPEseLjK"
   },
   "outputs": [],
   "source": [
    "collection_extent = pystac.Extent(spatial=spatial_extent, temporal=temporal_extent)"
   ]
  },
  {
   "cell_type": "code",
   "execution_count": null,
   "metadata": {
    "id": "8Zez-AKteLjK"
   },
   "outputs": [],
   "source": [
    "collection = pystac.Collection(id='wv3-images',\n",
    "                               description='Spacenet 5 images over Moscow',\n",
    "                               extent=collection_extent,\n",
    "                               license='CC-BY-SA-4.0')"
   ]
  },
  {
   "cell_type": "code",
   "execution_count": null,
   "metadata": {
    "id": "Y7miCYwQeLjK"
   },
   "outputs": [],
   "source": [
    "collection.add_items(chip_id_to_items.values())"
   ]
  },
  {
   "cell_type": "code",
   "execution_count": null,
   "metadata": {
    "id": "_jX_pz3ceLjL",
    "outputId": "8134d7eb-5ece-439c-a92b-2250a5a29fe1"
   },
   "outputs": [
    {
     "name": "stdout",
     "output_type": "stream",
     "text": [
      "* <Collection id=wv3-images>\n",
      "  * <Item id=img_0>\n",
      "  * <Item id=img_1>\n",
      "  * <Item id=img_10>\n",
      "  * <Item id=img_100>\n",
      "  * <Item id=img_1000>\n",
      "  * <Item id=img_1001>\n",
      "  * <Item id=img_1002>\n",
      "  * <Item id=img_1003>\n",
      "  * <Item id=img_1004>\n",
      "  * <Item id=img_1005>\n"
     ]
    }
   ],
   "source": [
    "collection.describe()"
   ]
  },
  {
   "cell_type": "markdown",
   "metadata": {
    "id": "JsIV7KWheLjL"
   },
   "source": [
    "Now, we can create a Catalog and add the collection."
   ]
  },
  {
   "cell_type": "code",
   "execution_count": null,
   "metadata": {
    "id": "SyajDCnHeLjL"
   },
   "outputs": [],
   "source": [
    "catalog = pystac.Catalog(id='spacenet5', description='Spacenet 5 Data (Test)')\n",
    "catalog.add_child(collection)"
   ]
  },
  {
   "cell_type": "code",
   "execution_count": null,
   "metadata": {
    "id": "3rGKW092eLjL",
    "outputId": "89cf264a-d311-4fb7-ad8b-3af759af90a0"
   },
   "outputs": [
    {
     "name": "stdout",
     "output_type": "stream",
     "text": [
      "* <Catalog id=spacenet5>\n",
      "    * <Collection id=wv3-images>\n",
      "      * <Item id=img_0>\n",
      "      * <Item id=img_1>\n",
      "      * <Item id=img_10>\n",
      "      * <Item id=img_100>\n",
      "      * <Item id=img_1000>\n",
      "      * <Item id=img_1001>\n",
      "      * <Item id=img_1002>\n",
      "      * <Item id=img_1003>\n",
      "      * <Item id=img_1004>\n",
      "      * <Item id=img_1005>\n"
     ]
    }
   ],
   "source": [
    "catalog.describe()"
   ]
  },
  {
   "cell_type": "markdown",
   "metadata": {
    "id": "aW3tdsuxeLjL"
   },
   "source": [
    "## Adding items with the label extension to the Spacenet 5 catalog\n",
    "\n",
    "We can use the [label extension](https://github.com/radiantearth/stac-spec/tree/v0.8.1/extensions/label) of the STAC spec to represent the training data in our STAC. For this, we need to grab the URIs of the GeoJSON of roads:"
   ]
  },
  {
   "cell_type": "code",
   "execution_count": null,
   "metadata": {
    "id": "vqdEb8lreLjM"
   },
   "outputs": [],
   "source": [
    "moscow_training_geojson_uris = list(get_s3_keys(bucket='spacenet-dataset',\n",
    "                                               prefix='spacenet/SN5_roads/train/AOI_7_Moscow/geojson_roads_speed/'))"
   ]
  },
  {
   "cell_type": "code",
   "execution_count": null,
   "metadata": {
    "id": "xvPYzufIeLjM"
   },
   "outputs": [],
   "source": [
    "for uri in moscow_training_geojson_uris:\n",
    "    chip_id = get_chip_id(uri)\n",
    "    if chip_id in chip_id_to_data:\n",
    "        chip_id_to_data[chip_id]['label'] = 's3://spacenet-dataset/{}'.format(uri)"
   ]
  },
  {
   "cell_type": "markdown",
   "metadata": {
    "id": "Wi0j9zu9eLjM"
   },
   "source": [
    "We'll add the items to their own subcatalog; since they don't inherit the Collection's `eo` properties, they shouldn't go in the Collection."
   ]
  },
  {
   "cell_type": "code",
   "execution_count": null,
   "metadata": {
    "id": "ZtDz1Ve7eLjM"
   },
   "outputs": [],
   "source": [
    "label_catalog = pystac.Catalog(id='spacenet-data-labels', description='Labels for Spacenet 5')\n",
    "catalog.add_child(label_catalog)"
   ]
  },
  {
   "cell_type": "markdown",
   "metadata": {
    "id": "vPxNlnoxeLjN"
   },
   "source": [
    "To see the required fields for the label extension we can check the pydocs on the `apply` method of the extension:"
   ]
  },
  {
   "cell_type": "code",
   "execution_count": null,
   "metadata": {
    "id": "zmL55Z7yeLjN",
    "outputId": "a832dc9b-d53b-48f3-a3e5-3ea10f156f59"
   },
   "outputs": [
    {
     "name": "stdout",
     "output_type": "stream",
     "text": [
      "Applies label extension properties to the extended Item.\n",
      "\n",
      "        Args:\n",
      "            label_description : A description of the label, how it was created,\n",
      "                and what it is recommended for\n",
      "            label_type : An Enum of either vector label type or raster label type. Use\n",
      "                one of :class:`~pystac.LabelType`.\n",
      "            label_properties : These are the names of the property field(s) in each\n",
      "                Feature of the label asset's FeatureCollection that contains the classes\n",
      "                (keywords from label:classes if the property defines classes).\n",
      "                If labels are rasters, this should be None.\n",
      "            label_classes : Optional, but required if using categorical data.\n",
      "                A list of :class:`LabelClasses` instances defining the list of possible\n",
      "                class names for each label:properties. (e.g., tree, building, car,\n",
      "                hippo)\n",
      "            label_tasks : Recommended to be a subset of 'regression', 'classification',\n",
      "                'detection', or 'segmentation', but may be an arbitrary value.\n",
      "            label_methods: Recommended to be a subset of 'automated' or 'manual',\n",
      "                but may be an arbitrary value.\n",
      "            label_overviews : Optional list of :class:`LabelOverview` instances\n",
      "                that store counts (for classification-type data) or summary statistics\n",
      "                (for continuous numerical/regression data).\n",
      "        \n"
     ]
    }
   ],
   "source": [
    "from pystac.extensions.label import LabelExtension\n",
    "print(LabelExtension.apply.__doc__)"
   ]
  },
  {
   "cell_type": "markdown",
   "metadata": {
    "id": "yEIuqv9keLjN"
   },
   "source": [
    "This loop creates our label items and associates each to the appropriate source image Item."
   ]
  },
  {
   "cell_type": "code",
   "execution_count": null,
   "metadata": {
    "id": "p1UI9J93eLjO"
   },
   "outputs": [],
   "source": [
    "from pystac.extensions.label import LabelType\n",
    "\n",
    "for chip_id in chip_id_to_data:\n",
    "    img_item = collection.get_item('img_{}'.format(chip_id))\n",
    "    assert img_item\n",
    "    label_uri = chip_id_to_data[chip_id]['label']\n",
    "    \n",
    "    label_item = pystac.Item(id='label_{}'.format(chip_id),\n",
    "                             geometry=img_item.geometry,\n",
    "                             bbox=img_item.bbox,\n",
    "                             datetime=datetime.utcnow(),\n",
    "                             properties={})\n",
    "    label = LabelExtension.ext(label_item, add_if_missing=True)\n",
    "    label.apply(label_description=\"SpaceNet 5 Road labels\",\n",
    "                               label_type=LabelType.VECTOR,\n",
    "                               label_tasks=['segmentation', 'regression'])\n",
    "    label.add_source(img_item)\n",
    "    label.add_geojson_labels(label_uri)\n",
    "    \n",
    "    label_catalog.add_item(label_item)"
   ]
  },
  {
   "cell_type": "markdown",
   "metadata": {
    "id": "xDldYTbKeLjO"
   },
   "source": [
    "Now we have a STAC of training data!"
   ]
  },
  {
   "cell_type": "code",
   "execution_count": null,
   "metadata": {
    "id": "Pm_8fVU2eLjO",
    "outputId": "71895ba1-70ed-4a27-e68a-e4a59dd49811"
   },
   "outputs": [
    {
     "name": "stdout",
     "output_type": "stream",
     "text": [
      "* <Catalog id=spacenet5>\n",
      "    * <Collection id=wv3-images>\n",
      "      * <Item id=img_0>\n",
      "      * <Item id=img_1>\n",
      "      * <Item id=img_10>\n",
      "      * <Item id=img_100>\n",
      "      * <Item id=img_1000>\n",
      "      * <Item id=img_1001>\n",
      "      * <Item id=img_1002>\n",
      "      * <Item id=img_1003>\n",
      "      * <Item id=img_1004>\n",
      "      * <Item id=img_1005>\n",
      "    * <Catalog id=spacenet-data-labels>\n",
      "      * <Item id=label_0>\n",
      "      * <Item id=label_1>\n",
      "      * <Item id=label_10>\n",
      "      * <Item id=label_100>\n",
      "      * <Item id=label_1000>\n",
      "      * <Item id=label_1001>\n",
      "      * <Item id=label_1002>\n",
      "      * <Item id=label_1003>\n",
      "      * <Item id=label_1004>\n",
      "      * <Item id=label_1005>\n"
     ]
    }
   ],
   "source": [
    "catalog.describe()"
   ]
  },
  {
   "cell_type": "code",
   "execution_count": null,
   "metadata": {
    "id": "c36yLcGBeLjO",
    "outputId": "cfe3441b-10b2-476d-9eca-a2808eae846b"
   },
   "outputs": [
    {
     "data": {
      "text/plain": [
       "{'type': 'Feature',\n",
       " 'stac_version': '1.0.0',\n",
       " 'id': 'label_1',\n",
       " 'properties': {'label:description': 'SpaceNet 5 Road labels',\n",
       "  'label:type': <LabelType.VECTOR: 'vector'>,\n",
       "  'label:properties': None,\n",
       "  'label:tasks': ['segmentation', 'regression'],\n",
       "  'datetime': '2022-03-29T12:58:05.404487Z'},\n",
       " 'geometry': {'type': 'Polygon',\n",
       "  'coordinates': (((37.68191035616281, 55.73478210707574),\n",
       "    (37.68191035616281, 55.73882710285011),\n",
       "    (37.68595535193718, 55.73882710285011),\n",
       "    (37.68595535193718, 55.73478210707574),\n",
       "    (37.68191035616281, 55.73478210707574)),)},\n",
       " 'links': [{'rel': 'source',\n",
       "   'href': None,\n",
       "   'type': <MediaType.JSON: 'application/json'>},\n",
       "  {'rel': <RelType.ROOT: 'root'>,\n",
       "   'href': None,\n",
       "   'type': <MediaType.JSON: 'application/json'>},\n",
       "  {'rel': <RelType.PARENT: 'parent'>,\n",
       "   'href': None,\n",
       "   'type': <MediaType.JSON: 'application/json'>}],\n",
       " 'assets': {'labels': {'href': 's3://spacenet-dataset/spacenet/SN5_roads/train/AOI_7_Moscow/geojson_roads_speed/SN5_roads_train_AOI_7_Moscow_geojson_roads_speed_chip1.geojson',\n",
       "   'type': <MediaType.GEOJSON: 'application/geo+json'>}},\n",
       " 'bbox': [37.68191035616281,\n",
       "  55.73478210707574,\n",
       "  37.68595535193718,\n",
       "  55.73882710285011],\n",
       " 'stac_extensions': ['https://stac-extensions.github.io/label/v1.0.1/schema.json']}"
      ]
     },
     "execution_count": 87,
     "metadata": {},
     "output_type": "execute_result"
    }
   ],
   "source": [
    "label_item = catalog.get_child('spacenet-data-labels').get_item('label_1')\n",
    "label_item.to_dict()"
   ]
  }
 ],
 "metadata": {
  "colab": {
   "collapsed_sections": [
    "zDrCbCIyeLjE",
    "y-abFFG3eLjH",
    "jDymvjx4eLjH",
    "FhdImiqAeLjK"
   ],
   "name": "sample_how-to-create-stac-catalogs.ipynb",
   "provenance": []
  },
  "kernelspec": {
   "display_name": "Python 3 (ipykernel)",
   "language": "python",
   "name": "python3"
  },
  "language_info": {
   "codemirror_mode": {
    "name": "ipython",
    "version": 3
   },
   "file_extension": ".py",
   "mimetype": "text/x-python",
   "name": "python",
   "nbconvert_exporter": "python",
   "pygments_lexer": "ipython3",
   "version": "3.8.13"
  }
 },
 "nbformat": 4,
 "nbformat_minor": 1
}
