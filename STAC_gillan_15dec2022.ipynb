{
 "cells": [
  {
   "cell_type": "markdown",
   "id": "92a9cf81",
   "metadata": {},
   "source": [
    "The following python code will create a STAC catalog from a local geotif raster\n"
   ]
  },
  {
   "cell_type": "code",
   "execution_count": 20,
   "id": "73d12048",
   "metadata": {},
   "outputs": [
    {
     "name": "stdout",
     "output_type": "stream",
     "text": [
      "Requirement already satisfied: boto3 in /home/jgillan/miniconda3/envs/stac/lib/python3.9/site-packages (1.26.27)\n",
      "Requirement already satisfied: rasterio in /home/jgillan/miniconda3/envs/stac/lib/python3.9/site-packages (1.3.4)\n",
      "Requirement already satisfied: shapely in /home/jgillan/miniconda3/envs/stac/lib/python3.9/site-packages (1.8.5.post1)\n",
      "Requirement already satisfied: pystac in /home/jgillan/miniconda3/envs/stac/lib/python3.9/site-packages (1.6.1)\n",
      "Requirement already satisfied: jmespath<2.0.0,>=0.7.1 in /home/jgillan/miniconda3/envs/stac/lib/python3.9/site-packages (from boto3) (1.0.1)\n",
      "Requirement already satisfied: botocore<1.30.0,>=1.29.27 in /home/jgillan/miniconda3/envs/stac/lib/python3.9/site-packages (from boto3) (1.29.27)\n",
      "Requirement already satisfied: s3transfer<0.7.0,>=0.6.0 in /home/jgillan/miniconda3/envs/stac/lib/python3.9/site-packages (from boto3) (0.6.0)\n",
      "Requirement already satisfied: affine in /home/jgillan/miniconda3/envs/stac/lib/python3.9/site-packages (from rasterio) (2.3.1)\n",
      "Requirement already satisfied: setuptools in /home/jgillan/miniconda3/envs/stac/lib/python3.9/site-packages (from rasterio) (65.5.0)\n",
      "Requirement already satisfied: cligj>=0.5 in /home/jgillan/miniconda3/envs/stac/lib/python3.9/site-packages (from rasterio) (0.7.2)\n",
      "Requirement already satisfied: snuggs>=1.4.1 in /home/jgillan/miniconda3/envs/stac/lib/python3.9/site-packages (from rasterio) (1.4.7)\n",
      "Requirement already satisfied: certifi in /home/jgillan/miniconda3/envs/stac/lib/python3.9/site-packages (from rasterio) (2022.12.7)\n",
      "Requirement already satisfied: numpy>=1.18 in /home/jgillan/miniconda3/envs/stac/lib/python3.9/site-packages (from rasterio) (1.23.4)\n",
      "Requirement already satisfied: click-plugins in /home/jgillan/miniconda3/envs/stac/lib/python3.9/site-packages (from rasterio) (1.1.1)\n",
      "Requirement already satisfied: click>=4.0 in /home/jgillan/miniconda3/envs/stac/lib/python3.9/site-packages (from rasterio) (8.1.3)\n",
      "Requirement already satisfied: attrs in /home/jgillan/miniconda3/envs/stac/lib/python3.9/site-packages (from rasterio) (22.1.0)\n",
      "Requirement already satisfied: python-dateutil>=2.7.0 in /home/jgillan/miniconda3/envs/stac/lib/python3.9/site-packages (from pystac) (2.8.2)\n",
      "Requirement already satisfied: urllib3<1.27,>=1.25.4 in /home/jgillan/miniconda3/envs/stac/lib/python3.9/site-packages (from botocore<1.30.0,>=1.29.27->boto3) (1.26.13)\n",
      "Requirement already satisfied: six>=1.5 in /home/jgillan/miniconda3/envs/stac/lib/python3.9/site-packages (from python-dateutil>=2.7.0->pystac) (1.16.0)\n",
      "Requirement already satisfied: pyparsing>=2.1.6 in /home/jgillan/miniconda3/envs/stac/lib/python3.9/site-packages (from snuggs>=1.4.1->rasterio) (3.0.9)\n",
      "Note: you may need to restart the kernel to use updated packages.\n"
     ]
    }
   ],
   "source": [
    "%pip install boto3 rasterio shapely pystac"
   ]
  },
  {
   "cell_type": "code",
   "execution_count": 21,
   "id": "043afec8",
   "metadata": {},
   "outputs": [],
   "source": [
    "import pystac\n",
    "import os"
   ]
  },
  {
   "cell_type": "code",
   "execution_count": 22,
   "id": "34d335c4",
   "metadata": {},
   "outputs": [],
   "source": [
    "catalog = pystac.Catalog(id='test-catalog', description='Tutorial catalog.')"
   ]
  },
  {
   "cell_type": "code",
   "execution_count": 23,
   "id": "66a90585",
   "metadata": {},
   "outputs": [],
   "source": [
    "import rasterio\n",
    "from shapely.geometry import Polygon, mapping\n",
    "\n",
    "def get_bbox_and_footprint(raster_uri):\n",
    "    with rasterio.open(raster_uri) as ds:\n",
    "        bounds = ds.bounds\n",
    "        bbox = [bounds.left, bounds.bottom, bounds.right, bounds.top]\n",
    "        footprint = Polygon([\n",
    "            [bounds.left, bounds.bottom],\n",
    "            [bounds.left, bounds.top],\n",
    "            [bounds.right, bounds.top],\n",
    "            [bounds.right, bounds.bottom]\n",
    "        ])\n",
    "        \n",
    "        return (bbox, mapping(footprint))"
   ]
  },
  {
   "cell_type": "code",
   "execution_count": 24,
   "id": "1097847b",
   "metadata": {},
   "outputs": [
    {
     "name": "stdout",
     "output_type": "stream",
     "text": [
      "[-110.88731036534, 31.8109444965928, -110.884672430915, 31.8130591450936]\n",
      "{'type': 'Polygon', 'coordinates': (((-110.88731036534, 31.8109444965928), (-110.88731036534, 31.8130591450936), (-110.884672430915, 31.8130591450936), (-110.884672430915, 31.8109444965928), (-110.88731036534, 31.8109444965928)),)}\n"
     ]
    }
   ],
   "source": [
    "img_path=\"/home/jgillan/Documents/STAC_drone/1a_g2_ortho.tif\"\n",
    "\n",
    "bbox, footprint = get_bbox_and_footprint(img_path)\n",
    "print(bbox)\n",
    "print(footprint)\n",
    "\n"
   ]
  },
  {
   "cell_type": "code",
   "execution_count": 25,
   "id": "53a34d0f",
   "metadata": {},
   "outputs": [],
   "source": [
    "from datetime import datetime\n",
    "\n",
    "item = pystac.Item(id='local-image',\n",
    "                 geometry=footprint,\n",
    "                 bbox=bbox,\n",
    "                 datetime=datetime.utcnow(),\n",
    "                 properties={})"
   ]
  },
  {
   "cell_type": "code",
   "execution_count": 26,
   "id": "b2e60ac8",
   "metadata": {},
   "outputs": [],
   "source": [
    "assert item.get_parent() is None"
   ]
  },
  {
   "cell_type": "code",
   "execution_count": 27,
   "id": "c884f0a3",
   "metadata": {},
   "outputs": [],
   "source": [
    "catalog.add_item(item)"
   ]
  },
  {
   "cell_type": "code",
   "execution_count": 28,
   "id": "4fefa9a6",
   "metadata": {},
   "outputs": [
    {
     "data": {
      "text/html": [
       "\n",
       "\n",
       "<div class=\"jp-RenderedHTMLCommon jp-RenderedHTML jp-mod-trusted jp-OutputArea-output\">\n",
       "    <div style=\"\n",
       "        width: 24px;\n",
       "        height: 24px;\n",
       "        background-color: #E1E1E1;\n",
       "        border: 3px solid #9D9D9D;\n",
       "        border-radius: 5px;\n",
       "        position: absolute;\">\n",
       "    </div>\n",
       "    <div>\n",
       "        <details style=\"margin-left: 48px;\">\n",
       "            <summary style=\"margin-bottom: 20px;\">\n",
       "                <h3 style=\"margin-bottom: 0px; display: inline;\">\n",
       "                    Catalog: test-catalog\n",
       "                </h3>\n",
       "            </summary>\n",
       "            <table style=\"width: 100%; text-align: left;\">\n",
       "                <tr><td style=\"text-align: left;\">ID: test-catalog </td></tr>\n",
       "                \n",
       "                \n",
       "                    <tr><td style=\"text-align: left;\"><strong>Description:</strong> Tutorial catalog. </td></tr>\n",
       "                \n",
       "                 \n",
       "                \n",
       "            </table>\n",
       "            \n",
       "            \n",
       "            \n",
       "        <details>\n",
       "            <summary style=\"margin-bottom: 10px; margin-top: 10px\">\n",
       "                <h4 style=\"margin-bottom: 0px; display: inline;\">Items</h4>\n",
       "            </summary>\n",
       "            <i> Only the first item shown </i>\n",
       "            \n",
       "                \n",
       "\n",
       "<div class=\"jp-RenderedHTMLCommon jp-RenderedHTML jp-mod-trusted jp-OutputArea-output\">\n",
       "    <div style=\"\n",
       "        width: 24px;\n",
       "        height: 24px;\n",
       "        background-color: #DBF5FF;\n",
       "        border: 3px solid #4CC9FF;\n",
       "        border-radius: 5px;\n",
       "        position: absolute;\">\n",
       "    </div>\n",
       "    <div>\n",
       "        <details style=\"margin-left: 48px;\">\n",
       "            <summary style=\"margin-bottom: 20px;\">\n",
       "                <h3 style=\"margin-bottom: 0px; display: inline;\">Item: local-image</h3>\n",
       "            </summary>\n",
       "            <table style=\"width: 100%; text-align: left;\">\n",
       "                <tr><td style=\"text-align: left;\"><strong>ID</strong>: local-image </td></tr>\n",
       "                \n",
       "                \n",
       "                    <tr><td style=\"text-align: left;\"><strong>Bounding Box:</strong> [-110.88731036534, 31.8109444965928, -110.884672430915, 31.8130591450936] </td></tr>\n",
       "                \n",
       "                \n",
       "                    <tr><td style=\"text-align: left;\"><strong>Datetime:</strong> 2022-12-15 20:15:27.441453 </td></tr>\n",
       "                \n",
       "                \n",
       "                \n",
       "            </table>\n",
       "            \n",
       "            \n",
       "            \n",
       "        <details>\n",
       "            <summary style=\"margin-bottom: 10px; margin-top: 10px\">\n",
       "                <h4 style=\"margin-bottom: 0px; display: inline;\">Links</h4>\n",
       "            </summary>\n",
       "            \n",
       "                \n",
       "\n",
       "<div class=\"jp-RenderedHTMLCommon jp-RenderedHTML jp-mod-trusted jp-OutputArea-output\">\n",
       "    <div style=\"\n",
       "        width: 24px;\n",
       "        height: 24px;\n",
       "        background-color: #FFF7E5;\n",
       "        border: 3px solid #FF6132;\n",
       "        border-radius: 5px;\n",
       "        position: absolute;\">\n",
       "    </div>\n",
       "    <div style=\"margin-left: 48px;\">\n",
       "        <h4 style=\"margin-bottom: 0px;\">Link: </h4>\n",
       "        \n",
       "        <table style=\"width: 100%; text-align: left;\">\n",
       "            <tr><td style=\"text-align: left;\"><strong>Rel:</strong> root </td></tr>\n",
       "            <tr><td style=\"text-align: left;\"><strong>Target:</strong> <Catalog id=test-catalog> </td></tr>\n",
       "            \n",
       "                <tr><td style=\"text-align: left;\"><strong>Media Type:</strong> application/json </td></tr>\n",
       "            \n",
       "            \n",
       "        </table>\n",
       "        \n",
       "    </div>\n",
       "</div>\n",
       "            \n",
       "                \n",
       "\n",
       "<div class=\"jp-RenderedHTMLCommon jp-RenderedHTML jp-mod-trusted jp-OutputArea-output\">\n",
       "    <div style=\"\n",
       "        width: 24px;\n",
       "        height: 24px;\n",
       "        background-color: #FFF7E5;\n",
       "        border: 3px solid #FF6132;\n",
       "        border-radius: 5px;\n",
       "        position: absolute;\">\n",
       "    </div>\n",
       "    <div style=\"margin-left: 48px;\">\n",
       "        <h4 style=\"margin-bottom: 0px;\">Link: </h4>\n",
       "        \n",
       "        <table style=\"width: 100%; text-align: left;\">\n",
       "            <tr><td style=\"text-align: left;\"><strong>Rel:</strong> parent </td></tr>\n",
       "            <tr><td style=\"text-align: left;\"><strong>Target:</strong> <Catalog id=test-catalog> </td></tr>\n",
       "            \n",
       "                <tr><td style=\"text-align: left;\"><strong>Media Type:</strong> application/json </td></tr>\n",
       "            \n",
       "            \n",
       "        </table>\n",
       "        \n",
       "    </div>\n",
       "</div>\n",
       "            \n",
       "        </details>\n",
       "    \n",
       "        </details>\n",
       "    </div>\n",
       "</div>\n",
       "            \n",
       "        </details>\n",
       "    \n",
       "            \n",
       "        <details>\n",
       "            <summary style=\"margin-bottom: 10px; margin-top: 10px\">\n",
       "                <h4 style=\"margin-bottom: 0px; display: inline;\">Links</h4>\n",
       "            </summary>\n",
       "            \n",
       "                \n",
       "\n",
       "<div class=\"jp-RenderedHTMLCommon jp-RenderedHTML jp-mod-trusted jp-OutputArea-output\">\n",
       "    <div style=\"\n",
       "        width: 24px;\n",
       "        height: 24px;\n",
       "        background-color: #FFF7E5;\n",
       "        border: 3px solid #FF6132;\n",
       "        border-radius: 5px;\n",
       "        position: absolute;\">\n",
       "    </div>\n",
       "    <div style=\"margin-left: 48px;\">\n",
       "        <h4 style=\"margin-bottom: 0px;\">Link: </h4>\n",
       "        \n",
       "        <table style=\"width: 100%; text-align: left;\">\n",
       "            <tr><td style=\"text-align: left;\"><strong>Rel:</strong> root </td></tr>\n",
       "            <tr><td style=\"text-align: left;\"><strong>Target:</strong> <Catalog id=test-catalog> </td></tr>\n",
       "            \n",
       "                <tr><td style=\"text-align: left;\"><strong>Media Type:</strong> application/json </td></tr>\n",
       "            \n",
       "            \n",
       "        </table>\n",
       "        \n",
       "    </div>\n",
       "</div>\n",
       "            \n",
       "                \n",
       "\n",
       "<div class=\"jp-RenderedHTMLCommon jp-RenderedHTML jp-mod-trusted jp-OutputArea-output\">\n",
       "    <div style=\"\n",
       "        width: 24px;\n",
       "        height: 24px;\n",
       "        background-color: #FFF7E5;\n",
       "        border: 3px solid #FF6132;\n",
       "        border-radius: 5px;\n",
       "        position: absolute;\">\n",
       "    </div>\n",
       "    <div style=\"margin-left: 48px;\">\n",
       "        <h4 style=\"margin-bottom: 0px;\">Link: </h4>\n",
       "        \n",
       "        <table style=\"width: 100%; text-align: left;\">\n",
       "            <tr><td style=\"text-align: left;\"><strong>Rel:</strong> item </td></tr>\n",
       "            <tr><td style=\"text-align: left;\"><strong>Target:</strong> <Item id=local-image> </td></tr>\n",
       "            \n",
       "                <tr><td style=\"text-align: left;\"><strong>Media Type:</strong> application/json </td></tr>\n",
       "            \n",
       "            \n",
       "        </table>\n",
       "        \n",
       "    </div>\n",
       "</div>\n",
       "            \n",
       "        </details>\n",
       "    \n",
       "             \n",
       "        </details>\n",
       "    </div>\n",
       "</div>"
      ],
      "text/plain": [
       "<Catalog id=test-catalog>"
      ]
     },
     "execution_count": 28,
     "metadata": {},
     "output_type": "execute_result"
    }
   ],
   "source": [
    "item.get_parent()"
   ]
  },
  {
   "cell_type": "code",
   "execution_count": 29,
   "id": "6d988b88",
   "metadata": {},
   "outputs": [
    {
     "name": "stdout",
     "output_type": "stream",
     "text": [
      "* <Catalog id=test-catalog>\n",
      "  * <Item id=local-image>\n"
     ]
    }
   ],
   "source": [
    "catalog.describe()"
   ]
  },
  {
   "cell_type": "code",
   "execution_count": 30,
   "id": "3f4d3b6b",
   "metadata": {},
   "outputs": [],
   "source": [
    "item.add_asset(\n",
    "    key='image', \n",
    "    asset=pystac.Asset(\n",
    "        href=img_path, \n",
    "        media_type=pystac.MediaType.GEOTIFF\n",
    "    )\n",
    ")"
   ]
  },
  {
   "cell_type": "code",
   "execution_count": 31,
   "id": "34621ab7",
   "metadata": {},
   "outputs": [
    {
     "name": "stdout",
     "output_type": "stream",
     "text": [
      "{\n",
      "    \"type\": \"Feature\",\n",
      "    \"stac_version\": \"1.0.0\",\n",
      "    \"id\": \"local-image\",\n",
      "    \"properties\": {\n",
      "        \"datetime\": \"2022-12-15T20:15:27.441453Z\"\n",
      "    },\n",
      "    \"geometry\": {\n",
      "        \"type\": \"Polygon\",\n",
      "        \"coordinates\": [\n",
      "            [\n",
      "                [\n",
      "                    -110.88731036534,\n",
      "                    31.8109444965928\n",
      "                ],\n",
      "                [\n",
      "                    -110.88731036534,\n",
      "                    31.8130591450936\n",
      "                ],\n",
      "                [\n",
      "                    -110.884672430915,\n",
      "                    31.8130591450936\n",
      "                ],\n",
      "                [\n",
      "                    -110.884672430915,\n",
      "                    31.8109444965928\n",
      "                ],\n",
      "                [\n",
      "                    -110.88731036534,\n",
      "                    31.8109444965928\n",
      "                ]\n",
      "            ]\n",
      "        ]\n",
      "    },\n",
      "    \"links\": [\n",
      "        {\n",
      "            \"rel\": \"root\",\n",
      "            \"href\": null,\n",
      "            \"type\": \"application/json\"\n",
      "        },\n",
      "        {\n",
      "            \"rel\": \"parent\",\n",
      "            \"href\": null,\n",
      "            \"type\": \"application/json\"\n",
      "        }\n",
      "    ],\n",
      "    \"assets\": {\n",
      "        \"image\": {\n",
      "            \"href\": \"/home/jgillan/Documents/STAC_drone/1a_g2_ortho.tif\",\n",
      "            \"type\": \"image/tiff; application=geotiff\"\n",
      "        }\n",
      "    },\n",
      "    \"bbox\": [\n",
      "        -110.88731036534,\n",
      "        31.8109444965928,\n",
      "        -110.884672430915,\n",
      "        31.8130591450936\n",
      "    ],\n",
      "    \"stac_extensions\": []\n",
      "}\n"
     ]
    }
   ],
   "source": [
    "import json\n",
    "print(json.dumps(item.to_dict(), indent=4))"
   ]
  },
  {
   "cell_type": "code",
   "execution_count": 32,
   "id": "15bec907",
   "metadata": {},
   "outputs": [
    {
     "name": "stdout",
     "output_type": "stream",
     "text": [
      "True\n",
      "True\n"
     ]
    }
   ],
   "source": [
    "print(catalog.get_self_href() is None)\n",
    "print(item.get_self_href() is None)"
   ]
  },
  {
   "cell_type": "code",
   "execution_count": 33,
   "id": "776fa197",
   "metadata": {},
   "outputs": [],
   "source": [
    "stac_directory=\"/home/jgillan/Documents/STAC_drone\"\n",
    "\n",
    "catalog.normalize_hrefs(os.path.join(stac_directory, 'stac'))"
   ]
  },
  {
   "cell_type": "code",
   "execution_count": 34,
   "id": "f564dbda",
   "metadata": {},
   "outputs": [
    {
     "name": "stdout",
     "output_type": "stream",
     "text": [
      "/home/jgillan/Documents/STAC_drone/stac/catalog.json\n",
      "/home/jgillan/Documents/STAC_drone/stac/local-image/local-image.json\n"
     ]
    }
   ],
   "source": [
    "print(catalog.get_self_href())\n",
    "print(item.get_self_href())"
   ]
  },
  {
   "cell_type": "code",
   "execution_count": 35,
   "id": "7eea4a9c",
   "metadata": {},
   "outputs": [],
   "source": [
    "catalog.save(catalog_type=pystac.CatalogType.SELF_CONTAINED)"
   ]
  },
  {
   "cell_type": "code",
   "execution_count": 36,
   "id": "5081a247",
   "metadata": {},
   "outputs": [
    {
     "name": "stdout",
     "output_type": "stream",
     "text": [
      "{\n",
      "  \"type\": \"Feature\",\n",
      "  \"stac_version\": \"1.0.0\",\n",
      "  \"id\": \"local-image\",\n",
      "  \"properties\": {\n",
      "    \"datetime\": \"2022-12-15T20:15:27.441453Z\"\n",
      "  },\n",
      "  \"geometry\": {\n",
      "    \"type\": \"Polygon\",\n",
      "    \"coordinates\": [\n",
      "      [\n",
      "        [\n",
      "          -110.88731036534,\n",
      "          31.8109444965928\n",
      "        ],\n",
      "        [\n",
      "          -110.88731036534,\n",
      "          31.8130591450936\n",
      "        ],\n",
      "        [\n",
      "          -110.884672430915,\n",
      "          31.8130591450936\n",
      "        ],\n",
      "        [\n",
      "          -110.884672430915,\n",
      "          31.8109444965928\n",
      "        ],\n",
      "        [\n",
      "          -110.88731036534,\n",
      "          31.8109444965928\n",
      "        ]\n",
      "      ]\n",
      "    ]\n",
      "  },\n",
      "  \"links\": [\n",
      "    {\n",
      "      \"rel\": \"root\",\n",
      "      \"href\": \"../catalog.json\",\n",
      "      \"type\": \"application/json\"\n",
      "    },\n",
      "    {\n",
      "      \"rel\": \"parent\",\n",
      "      \"href\": \"../catalog.json\",\n",
      "      \"type\": \"application/json\"\n",
      "    }\n",
      "  ],\n",
      "  \"assets\": {\n",
      "    \"image\": {\n",
      "      \"href\": \"/home/jgillan/Documents/STAC_drone/1a_g2_ortho.tif\",\n",
      "      \"type\": \"image/tiff; application=geotiff\"\n",
      "    }\n",
      "  },\n",
      "  \"bbox\": [\n",
      "    -110.88731036534,\n",
      "    31.8109444965928,\n",
      "    -110.884672430915,\n",
      "    31.8130591450936\n",
      "  ],\n",
      "  \"stac_extensions\": []\n",
      "}\n"
     ]
    }
   ],
   "source": [
    "with open(item.self_href) as f:\n",
    "    print(f.read())"
   ]
  },
  {
   "cell_type": "code",
   "execution_count": 37,
   "id": "4768bca0",
   "metadata": {},
   "outputs": [
    {
     "name": "stdout",
     "output_type": "stream",
     "text": [
      "{\n",
      "  \"type\": \"Feature\",\n",
      "  \"stac_version\": \"1.0.0\",\n",
      "  \"id\": \"local-image\",\n",
      "  \"properties\": {\n",
      "    \"datetime\": \"2022-12-15T20:15:27.441453Z\"\n",
      "  },\n",
      "  \"geometry\": {\n",
      "    \"type\": \"Polygon\",\n",
      "    \"coordinates\": [\n",
      "      [\n",
      "        [\n",
      "          -110.88731036534,\n",
      "          31.8109444965928\n",
      "        ],\n",
      "        [\n",
      "          -110.88731036534,\n",
      "          31.8130591450936\n",
      "        ],\n",
      "        [\n",
      "          -110.884672430915,\n",
      "          31.8130591450936\n",
      "        ],\n",
      "        [\n",
      "          -110.884672430915,\n",
      "          31.8109444965928\n",
      "        ],\n",
      "        [\n",
      "          -110.88731036534,\n",
      "          31.8109444965928\n",
      "        ]\n",
      "      ]\n",
      "    ]\n",
      "  },\n",
      "  \"links\": [\n",
      "    {\n",
      "      \"rel\": \"root\",\n",
      "      \"href\": \"../catalog.json\",\n",
      "      \"type\": \"application/json\"\n",
      "    },\n",
      "    {\n",
      "      \"rel\": \"parent\",\n",
      "      \"href\": \"../catalog.json\",\n",
      "      \"type\": \"application/json\"\n",
      "    }\n",
      "  ],\n",
      "  \"assets\": {\n",
      "    \"image\": {\n",
      "      \"href\": \"/home/jgillan/Documents/STAC_drone/1a_g2_ortho.tif\",\n",
      "      \"type\": \"image/tiff; application=geotiff\"\n",
      "    }\n",
      "  },\n",
      "  \"bbox\": [\n",
      "    -110.88731036534,\n",
      "    31.8109444965928,\n",
      "    -110.884672430915,\n",
      "    31.8130591450936\n",
      "  ],\n",
      "  \"stac_extensions\": []\n",
      "}\n"
     ]
    }
   ],
   "source": [
    "with open(item.self_href) as f:\n",
    "    print(f.read())"
   ]
  },
  {
   "cell_type": "code",
   "execution_count": 38,
   "id": "d051bf10",
   "metadata": {},
   "outputs": [],
   "source": [
    "catalog.make_all_asset_hrefs_relative()\n",
    "catalog.save(catalog_type=pystac.CatalogType.SELF_CONTAINED)"
   ]
  },
  {
   "cell_type": "code",
   "execution_count": null,
   "id": "ba516271",
   "metadata": {},
   "outputs": [],
   "source": []
  },
  {
   "cell_type": "code",
   "execution_count": null,
   "id": "dc676b2e",
   "metadata": {},
   "outputs": [],
   "source": []
  }
 ],
 "metadata": {
  "kernelspec": {
   "display_name": "Python 3 (ipykernel)",
   "language": "python",
   "name": "python3"
  },
  "language_info": {
   "codemirror_mode": {
    "name": "ipython",
    "version": 3
   },
   "file_extension": ".py",
   "mimetype": "text/x-python",
   "name": "python",
   "nbconvert_exporter": "python",
   "pygments_lexer": "ipython3",
   "version": "3.9.13"
  }
 },
 "nbformat": 4,
 "nbformat_minor": 5
}
