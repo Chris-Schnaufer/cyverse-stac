{
 "cells": [
  {
   "cell_type": "markdown",
   "id": "3e2fbb91",
   "metadata": {},
   "source": [
    "This code will create a STAC catalog and add several items from a local folder"
   ]
  },
  {
   "cell_type": "markdown",
   "id": "c2ca0120-bea1-467b-a39c-80b6098df034",
   "metadata": {},
   "source": [
    "How do I put the date of image acquisition for an imagery product?  I don't think there is an automated way to do it. I need to manually input it. But how? Maybe I need to add metadata to imagery products within Cyverse and then read that metadata with pystack? How do I write metadata in Cyverse? "
   ]
  },
  {
   "cell_type": "code",
   "execution_count": 1,
   "id": "6a4ef00a",
   "metadata": {
    "scrolled": true
   },
   "outputs": [
    {
     "name": "stdout",
     "output_type": "stream",
     "text": [
      "Collecting pystac\n",
      "  Downloading pystac-1.6.1-py3-none-any.whl (146 kB)\n",
      "\u001b[K     |████████████████████████████████| 146 kB 2.3 MB/s eta 0:00:01\n",
      "\u001b[?25hRequirement already satisfied: python-dateutil>=2.7.0 in /Users/chris/miniconda3/lib/python3.9/site-packages (from pystac) (2.8.2)\n",
      "Collecting rasterio\n",
      "  Downloading rasterio-1.3.4-cp39-cp39-macosx_10_15_x86_64.whl (30.9 MB)\n",
      "\u001b[K     |████████████████████████████████| 30.9 MB 19.1 MB/s eta 0:00:01\n",
      "\u001b[?25hRequirement already satisfied: attrs in /Users/chris/miniconda3/lib/python3.9/site-packages (from rasterio) (21.2.0)\n",
      "Requirement already satisfied: click>=4.0 in /Users/chris/miniconda3/lib/python3.9/site-packages (from rasterio) (8.0.1)\n",
      "Requirement already satisfied: setuptools in /Users/chris/miniconda3/lib/python3.9/site-packages (from rasterio) (51.0.0.post20201207)\n",
      "Requirement already satisfied: certifi in /Users/chris/miniconda3/lib/python3.9/site-packages (from rasterio) (2021.5.30)\n",
      "Collecting shapely\n",
      "  Downloading shapely-2.0.0-cp39-cp39-macosx_10_9_x86_64.whl (1.4 MB)\n",
      "\u001b[K     |████████████████████████████████| 1.4 MB 25.1 MB/s eta 0:00:01\n",
      "\u001b[?25hCollecting affine\n",
      "  Downloading affine-2.4.0-py3-none-any.whl (15 kB)\n",
      "Collecting click-plugins\n",
      "  Using cached click_plugins-1.1.1-py2.py3-none-any.whl (7.5 kB)\n",
      "Requirement already satisfied: click>=4.0 in /Users/chris/miniconda3/lib/python3.9/site-packages (from rasterio) (8.0.1)\n",
      "Collecting cligj>=0.5\n",
      "  Downloading cligj-0.7.2-py3-none-any.whl (7.1 kB)\n",
      "Requirement already satisfied: click>=4.0 in /Users/chris/miniconda3/lib/python3.9/site-packages (from rasterio) (8.0.1)\n",
      "Collecting numpy>=1.18\n",
      "  Downloading numpy-1.24.1-cp39-cp39-macosx_10_9_x86_64.whl (19.8 MB)\n",
      "\u001b[K     |████████████████████████████████| 19.8 MB 45.0 MB/s eta 0:00:01\n",
      "\u001b[?25hRequirement already satisfied: six>=1.5 in /Users/chris/miniconda3/lib/python3.9/site-packages (from python-dateutil>=2.7.0->pystac) (1.15.0)\n",
      "Collecting snuggs>=1.4.1\n",
      "  Downloading snuggs-1.4.7-py3-none-any.whl (5.4 kB)\n",
      "Requirement already satisfied: pyparsing>=2.1.6 in /Users/chris/miniconda3/lib/python3.9/site-packages (from snuggs>=1.4.1->rasterio) (2.4.7)\n",
      "Installing collected packages: numpy, snuggs, cligj, click-plugins, affine, shapely, rasterio, pystac\n",
      "Successfully installed affine-2.4.0 click-plugins-1.1.1 cligj-0.7.2 numpy-1.24.1 pystac-1.6.1 rasterio-1.3.4 shapely-2.0.0 snuggs-1.4.7\n",
      "Note: you may need to restart the kernel to use updated packages.\n"
     ]
    }
   ],
   "source": [
    "%pip install rasterio shapely pystac"
   ]
  },
  {
   "cell_type": "code",
   "execution_count": 37,
   "id": "06301146",
   "metadata": {
    "tags": []
   },
   "outputs": [],
   "source": [
    "from pathlib import Path\n",
    "import pystac\n",
    "import os\n",
    "\n",
    "catalog = pystac.Catalog(\n",
    "    id='Cyverse Remotely Sensed Imagery STAC Catalog',\n",
    "    description='This catalog includes all of the imagery assets the exist in Cyverse Data Store',\n",
    "    stac_extensions=['https://stac-extensions.github.io/projection/v1.0.0/schema.json']\n",
    ")"
   ]
  },
  {
   "cell_type": "markdown",
   "id": "72298b02-2bfc-4d85-9174-e3e843b10790",
   "metadata": {},
   "source": [
    "This following code is a Python function called \"get_bbox_and_footprint\" that takes in a dataset (either from rasterio or rioxarray) and returns a tuple containing the bounding box of the dataset and the footprint of the dataset. The bounding box is represented as a list of 4 coordinates [left, bottom, right, top] and the footprint is represented as a shapely Polygon object.\n",
    "\n",
    "First, the code imports the Polygon and mapping functions from the shapely.geometry library, and the rasterio library.\n",
    "\n",
    "The function starts by extracting the bounds of the input dataset using the bounds attribute. The code then checks if the bounds are of type rasterio.coords.BoundingBox or not. If they are, it assigns the left, bottom, right and top coordinates of the bounding box to the bbox variable. If not, it creates a list of floating point numbers by iterating over the bounds and assigns it to the bbox variable.\n",
    "\n",
    "Finally, the code creates a Polygon object using a list of the four corner coordinates of the bounding box. The footprint is obtained by mapping the Polygon object.\n",
    "\n",
    "The function returns a tuple containing the bounding box and the footprint of the dataset."
   ]
  },
  {
   "cell_type": "code",
   "execution_count": 4,
   "id": "cf773eff",
   "metadata": {},
   "outputs": [],
   "source": [
    "from shapely.geometry import Polygon, mapping\n",
    "import rasterio\n",
    "\n",
    "#This creates a function called 'get_bbox_and_footprint' \n",
    "def get_bbox_and_footprint(dataset):\n",
    "\n",
    "    # create the bounding box it will depend if it comes from rasterio or rioxarray\n",
    "    bounds = dataset.bounds\n",
    "\n",
    "    if isinstance(bounds, rasterio.coords.BoundingBox):\n",
    "        bbox = [bounds.left, bounds.bottom, bounds.right, bounds.top]\n",
    "    else:\n",
    "        bbox = [float(f) for f in bounds()]\n",
    "\n",
    "    # create the 4 corners of the footprint\n",
    "    footprint = Polygon([\n",
    "        [bbox[0], bbox[1]],#left bottom\n",
    "        [bbox[0], bbox[3]],#left top\n",
    "        [bbox[2], bbox[3]],#right top\n",
    "        [bbox[2], bbox[1]] #right bottom\n",
    "    ])\n",
    "\n",
    "    return bbox, mapping(footprint)"
   ]
  },
  {
   "cell_type": "code",
   "execution_count": 39,
   "id": "ecdab97d",
   "metadata": {},
   "outputs": [
    {
     "name": "stdout",
     "output_type": "stream",
     "text": [
      "4\n",
      "* <Catalog id=Cyverse Remotely Sensed Imagery STAC Catalog>\n",
      "  * <Item id=1_cimmyt_180119_odm_orthophoto_cog>\n",
      "  * <Item id=2_cimmyt_180119_odm_orthophoto_cog>\n",
      "  * <Item id=3_cimmyt_180119_odm_orthophoto_cog>\n",
      "  * <Item id=4_cimmyt_180119_odm_orthophoto_cog>\n"
     ]
    }
   ],
   "source": [
    "\n",
    "#from rasterio.warp import transform_bounds, transform_geom\n",
    "from pystac.extensions.projection import ProjectionExtension\n",
    "\n",
    "# get a list of geospatial files (in this case located in Cyverse data store)\n",
    "folder = Path('/Users/chris/stac/stackprotocol/COGs')\n",
    "files = list(folder.rglob('*.tif'))#find files that end with .tif\n",
    "\n",
    "#loop through each .tif item in the folder and do several things\n",
    "all_items = []\n",
    "for file in files:\n",
    "\n",
    "    # open the individual file with rasterio\n",
    "    ds = rasterio.open(file)\n",
    "    \n",
    "    #apply the function to get the bounding box (left, bottom, right, top) and make a footprint rectangle\n",
    "    bbox, footprint = get_bbox_and_footprint(ds)\n",
    "    \n",
    "    #the ID (name) for each indivual file\n",
    "    idx = file.stem\n",
    "    \n",
    "    #input the date and time of original imagery acquisition\n",
    "    from datetime import datetime\n",
    "    year = 2019\n",
    "    month = 5\n",
    "    day = 25\n",
    "    hour = 12\n",
    "    \n",
    "    #Create datetime object\n",
    "    user_datetime = datetime(year, month, day, hour)\n",
    "    \n",
    "    \n",
    "    #Create a STAC item for each individual file \n",
    "    item = pystac.Item(id=idx,\n",
    "                 geometry=footprint,\n",
    "                 bbox=bbox,\n",
    "                 datetime=user_datetime,\n",
    "                 stac_extensions=['https://stac-extensions.github.io/projection/v1.0.0/schema.json'],\n",
    "                 properties={})\n",
    "    \n",
    "    # extend the asset with projection extension\n",
    "    asset_ext = ProjectionExtension.add_to(item)\n",
    "    ProjectionExtension.ext(item).apply(ds.crs.to_epsg(),\n",
    "                                        shape = ds.shape,\n",
    "                                        bbox = bbox,\n",
    "                                        geometry = footprint,\n",
    "                                        transform = [float(getattr(ds.transform, letter)) for letter in 'abcdef']\n",
    "                                        )\n",
    "                        \n",
    "    item.add_asset(\n",
    "        key='geotiff',\n",
    "        asset=pystac.Asset(\n",
    "            href=file.as_posix(),\n",
    "            media_type=pystac.MediaType.GEOTIFF,\n",
    "            extra_fields=asset_ext\n",
    "        )\n",
    "    )\n",
    "    \n",
    "    # Add to the list\n",
    "    all_items.append(item)\n",
    "    \n",
    "    \n",
    "for item in all_items:\n",
    "    #add each STAC item to the STAC catalog\n",
    "    catalog.add_item(item)\n",
    "    \n",
    "#print the number of STAC items that were added to the STAC catalog    \n",
    "print(len(list(catalog.get_items())))\n",
    "\n",
    "#Describe the items in the STAC catalog\n",
    "catalog.describe()"
   ]
  },
  {
   "cell_type": "code",
   "execution_count": 40,
   "id": "b188fc61",
   "metadata": {
    "scrolled": true
   },
   "outputs": [],
   "source": [
    "stac_directory=\"/Users/chris/stac/stackprotocol/\"\n",
    "\n",
    "catalog.normalize_hrefs(os.path.join(stac_directory, 'stac_test1'))\n",
    "\n",
    "catalog.make_all_asset_hrefs_relative()\n",
    "catalog.save(catalog_type=pystac.CatalogType.SELF_CONTAINED)"
   ]
  },
  {
   "cell_type": "code",
   "execution_count": null,
   "id": "05e6ffa3",
   "metadata": {},
   "outputs": [],
   "source": []
  }
 ],
 "metadata": {
  "kernelspec": {
   "display_name": "Python 3",
   "language": "python",
   "name": "python3"
  },
  "language_info": {
   "codemirror_mode": {
    "name": "ipython",
    "version": 3
   },
   "file_extension": ".py",
   "mimetype": "text/x-python",
   "name": "python",
   "nbconvert_exporter": "python",
   "pygments_lexer": "ipython3",
   "version": "3.9.1"
  }
 },
 "nbformat": 4,
 "nbformat_minor": 5
}
