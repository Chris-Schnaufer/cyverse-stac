{
 "cells": [
  {
   "cell_type": "markdown",
   "id": "3e2fbb91",
   "metadata": {},
   "source": [
    "This code will create a STAC catalog and add several items from a local folder"
   ]
  },
  {
   "cell_type": "markdown",
   "id": "c2ca0120-bea1-467b-a39c-80b6098df034",
   "metadata": {},
   "source": [
    "How do I put the date of image acquisition for an imagery product?  I don't think there is an automated way to do it. I need to manually input it. But how? Maybe I need to add metadata to imagery products within Cyverse and then read that metadata with pystack? How do I write metadata in Cyverse? "
   ]
  },
  {
   "cell_type": "code",
   "execution_count": 1,
   "id": "6a4ef00a",
   "metadata": {
    "scrolled": true
   },
   "outputs": [
    {
     "name": "stdout",
     "output_type": "stream",
     "text": [
      "Requirement already satisfied: rasterio in /opt/conda/lib/python3.10/site-packages (1.3.4)\n",
      "Requirement already satisfied: shapely in /opt/conda/lib/python3.10/site-packages (2.0.0)\n",
      "Requirement already satisfied: pystac in /opt/conda/lib/python3.10/site-packages (1.6.1)\n",
      "Requirement already satisfied: setuptools in /opt/conda/lib/python3.10/site-packages (from rasterio) (62.3.2)\n",
      "Requirement already satisfied: affine in /opt/conda/lib/python3.10/site-packages (from rasterio) (2.3.1)\n",
      "Requirement already satisfied: click-plugins in /opt/conda/lib/python3.10/site-packages (from rasterio) (1.1.1)\n",
      "Requirement already satisfied: cligj>=0.5 in /opt/conda/lib/python3.10/site-packages (from rasterio) (0.7.2)\n",
      "Requirement already satisfied: certifi in /opt/conda/lib/python3.10/site-packages (from rasterio) (2022.5.18.1)\n",
      "Requirement already satisfied: numpy>=1.18 in /opt/conda/lib/python3.10/site-packages (from rasterio) (1.21.6)\n",
      "Requirement already satisfied: snuggs>=1.4.1 in /opt/conda/lib/python3.10/site-packages (from rasterio) (1.4.7)\n",
      "Requirement already satisfied: attrs in /opt/conda/lib/python3.10/site-packages (from rasterio) (21.4.0)\n",
      "Requirement already satisfied: click>=4.0 in /opt/conda/lib/python3.10/site-packages (from rasterio) (8.1.3)\n",
      "Requirement already satisfied: python-dateutil>=2.7.0 in /opt/conda/lib/python3.10/site-packages (from pystac) (2.8.2)\n",
      "Requirement already satisfied: six>=1.5 in /opt/conda/lib/python3.10/site-packages (from python-dateutil>=2.7.0->pystac) (1.16.0)\n",
      "Requirement already satisfied: pyparsing>=2.1.6 in /opt/conda/lib/python3.10/site-packages (from snuggs>=1.4.1->rasterio) (3.0.9)\n",
      "Note: you may need to restart the kernel to use updated packages.\n"
     ]
    }
   ],
   "source": [
    "%pip install rasterio shapely pystac"
   ]
  },
  {
   "cell_type": "code",
   "execution_count": 2,
   "id": "06301146",
   "metadata": {
    "tags": []
   },
   "outputs": [],
   "source": [
    "from pathlib import Path\n",
    "import pystac\n",
    "import os\n",
    "\n",
    "catalog = pystac.Catalog(\n",
    "    id='Cyverse Remotely Sensed Imagery STAC Catalog',\n",
    "    description='This catalog includes all of the imagery assets the exist in Cyverse Data Store',\n",
    "    stac_extensions=['https://stac-extensions.github.io/projection/v1.0.0/schema.json']\n",
    ")"
   ]
  },
  {
   "cell_type": "markdown",
   "id": "72298b02-2bfc-4d85-9174-e3e843b10790",
   "metadata": {},
   "source": [
    "This following code is a Python function called \"get_bbox_and_footprint\" that takes in a dataset (either from rasterio or rioxarray) and returns a tuple containing the bounding box of the dataset and the footprint of the dataset. The bounding box is represented as a list of 4 coordinates [left, bottom, right, top] and the footprint is represented as a shapely Polygon object.\n",
    "\n",
    "First, the code imports the Polygon and mapping functions from the shapely.geometry library, and the rasterio library.\n",
    "\n",
    "The function starts by extracting the bounds of the input dataset using the bounds attribute. The code then checks if the bounds are of type rasterio.coords.BoundingBox or not. If they are, it assigns the left, bottom, right and top coordinates of the bounding box to the bbox variable. If not, it creates a list of floating point numbers by iterating over the bounds and assigns it to the bbox variable.\n",
    "\n",
    "Finally, the code creates a Polygon object using a list of the four corner coordinates of the bounding box. The footprint is obtained by mapping the Polygon object.\n",
    "\n",
    "The function returns a tuple containing the bounding box and the footprint of the dataset."
   ]
  },
  {
   "cell_type": "code",
   "execution_count": 3,
   "id": "cf773eff",
   "metadata": {},
   "outputs": [],
   "source": [
    "from shapely.geometry import Polygon, mapping\n",
    "import rasterio\n",
    "\n",
    "#This creates a function called 'get_bbox_and_footprint' \n",
    "def get_bbox_and_footprint(dataset):\n",
    "\n",
    "    # create the bounding box it will depend if it comes from rasterio or rioxarray\n",
    "    bounds = dataset.bounds\n",
    "\n",
    "    if isinstance(bounds, rasterio.coords.BoundingBox):\n",
    "        bbox = [bounds.left, bounds.bottom, bounds.right, bounds.top]\n",
    "    else:\n",
    "        bbox = [float(f) for f in bounds()]\n",
    "\n",
    "    # create the 4 corners of the footprint\n",
    "    footprint = Polygon([\n",
    "        [bbox[0], bbox[1]],#left bottom\n",
    "        [bbox[0], bbox[3]],#left top\n",
    "        [bbox[2], bbox[3]],#right top\n",
    "        [bbox[2], bbox[1]] #right bottom\n",
    "    ])\n",
    "\n",
    "    return bbox, mapping(footprint)"
   ]
  },
  {
   "cell_type": "code",
   "execution_count": 4,
   "id": "ecdab97d",
   "metadata": {},
   "outputs": [
    {
     "name": "stdout",
     "output_type": "stream",
     "text": [
      "5\n",
      "* <Catalog id=Cyverse Remotely Sensed Imagery STAC Catalog>\n",
      "  * <Item id=1a_g2_ortho>\n",
      "  * <Item id=1a_g2_sept_CHM>\n",
      "  * <Item id=1a_u6_ortho>\n",
      "  * <Item id=california>\n",
      "  * <Item id=open_aerial>\n"
     ]
    }
   ],
   "source": [
    "\n",
    "#from rasterio.warp import transform_bounds, transform_geom\n",
    "from pystac.extensions.projection import AssetProjectionExtension\n",
    "\n",
    "# get a list of geospatial files (in this case located in Cyverse data store)\n",
    "folder = Path('/data-store/iplant/home/jgillan/STAC_drone')\n",
    "files = list(folder.rglob('*.tif'))#find files that end with .tif\n",
    "\n",
    "#loop through each .tif item in the folder and do several things\n",
    "for file in files:\n",
    "\n",
    "    # open the individual file with rasterio\n",
    "    ds = rasterio.open(file)\n",
    "    \n",
    "    #apply the function to get the bounding box (left, bottom, right, top) and make a footprint rectangle\n",
    "    bbox, footprint = get_bbox_and_footprint(ds)\n",
    "    \n",
    "    #the ID (name) for each indivual file\n",
    "    idx = file.stem\n",
    "    \n",
    "    #input the date and time of original imagery acquisition\n",
    "    from datetime import datetime\n",
    "    year = 2019\n",
    "    month = 5\n",
    "    day = 25\n",
    "    hour = 12\n",
    "    \n",
    "    #Create datetime object\n",
    "    user_datetime = datetime(year, month, day, hour)\n",
    "    \n",
    "    \n",
    "    #Create a STAC item for each individual file \n",
    "    item = pystac.Item(id=idx,\n",
    "                 geometry=footprint,\n",
    "                 bbox=bbox,\n",
    "                 datetime=user_datetime,\n",
    "                 stac_extensions=['https://stac-extensions.github.io/projection/v1.0.0/schema.json'],\n",
    "                 properties={})\n",
    "                    \n",
    "    \n",
    "    #add each STAC item to the STAC catalog\n",
    "    catalog.add_item(item)\n",
    "    \n",
    "    #link the assets (the actual geotif locations) to the STAC items\n",
    "    item = catalog.get_item(idx)\n",
    "    \n",
    "    item.add_asset(\n",
    "        key='geotiff',\n",
    "        asset=pystac.Asset(\n",
    "            href=file.as_posix(),\n",
    "            media_type=pystac.MediaType.GEOTIFF\n",
    "        )\n",
    "    )\n",
    "    \n",
    "    # extend the asset with projection extension\n",
    "    asset_ext = AssetProjectionExtension.ext(item.assets['geotiff'])\n",
    "    asset_ext.epsg = ds.crs.to_epsg()\n",
    "    asset_ext.shape = ds.shape\n",
    "    asset_ext.bbox = bbox\n",
    "    asset_ext.geometry = footprint\n",
    "    asset_ext.transform = [float(getattr(ds.transform, letter)) for letter in 'abcdef']\n",
    "    \n",
    "    \n",
    "#print the number of STAC items that were added to the STAC catalog    \n",
    "print(len(list(catalog.get_items())))\n",
    "\n",
    "#Describe the items in the STAC catalog\n",
    "catalog.describe()"
   ]
  },
  {
   "cell_type": "code",
   "execution_count": 5,
   "id": "b188fc61",
   "metadata": {
    "scrolled": true
   },
   "outputs": [],
   "source": [
    "stac_directory=\"/data-store/iplant/home/jgillan/STAC_drone\"\n",
    "\n",
    "catalog.normalize_hrefs(os.path.join(stac_directory, 'stac_test1'))\n",
    "\n",
    "catalog.make_all_asset_hrefs_relative()\n",
    "catalog.save(catalog_type=pystac.CatalogType.SELF_CONTAINED)"
   ]
  },
  {
   "cell_type": "code",
   "execution_count": null,
   "id": "05e6ffa3",
   "metadata": {},
   "outputs": [],
   "source": []
  }
 ],
 "metadata": {
  "kernelspec": {
   "display_name": "Python 3 (ipykernel)",
   "language": "python",
   "name": "python3"
  },
  "language_info": {
   "codemirror_mode": {
    "name": "ipython",
    "version": 3
   },
   "file_extension": ".py",
   "mimetype": "text/x-python",
   "name": "python",
   "nbconvert_exporter": "python",
   "pygments_lexer": "ipython3",
   "version": "3.10.4"
  }
 },
 "nbformat": 4,
 "nbformat_minor": 5
}
