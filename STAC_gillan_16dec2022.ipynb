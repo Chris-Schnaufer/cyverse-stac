{
 "cells": [
  {
   "cell_type": "markdown",
   "id": "3e2fbb91",
   "metadata": {},
   "source": [
    "The following python code will create a STAC catalog from a single local geotif raster. It will create a folder called 'stac', this is where the json files will be put. \n",
    "\n",
    "\n",
    "How do I loop it so it will create STAC items for several rasters in a folder?  "
   ]
  },
  {
   "cell_type": "code",
   "execution_count": null,
   "id": "6a4ef00a",
   "metadata": {
    "scrolled": true
   },
   "outputs": [],
   "source": [
    "%pip install rasterio shapely pystac"
   ]
  },
  {
   "cell_type": "markdown",
   "id": "bd05fb33",
   "metadata": {},
   "source": [
    "This code will create many items from a folder"
   ]
  },
  {
   "cell_type": "code",
   "execution_count": 1,
   "id": "06301146",
   "metadata": {},
   "outputs": [],
   "source": [
    "from pathlib import Path\n",
    "import pystac\n",
    "import os\n",
    "\n",
    "catalog = pystac.Catalog(\n",
    "    id='Drone_Imagery',\n",
    "    description='Drone Imagery of SRER',\n",
    "    stac_extensions=['https://stac-extensions.github.io/projection/v1.0.0/schema.json']\n",
    ")"
   ]
  },
  {
   "cell_type": "code",
   "execution_count": 2,
   "id": "cf773eff",
   "metadata": {},
   "outputs": [],
   "source": [
    "from shapely.geometry import Polygon, mapping\n",
    "import rasterio\n",
    "\n",
    "def get_bbox_and_footprint(dataset):\n",
    "\n",
    "    # create the bounding box it will depend if it comes from rasterio or rioxarray\n",
    "    bounds = dataset.bounds\n",
    "\n",
    "    if isinstance(bounds, rasterio.coords.BoundingBox):\n",
    "        bbox = [bounds.left, bounds.bottom, bounds.right, bounds.top]\n",
    "    else:\n",
    "        bbox = [float(f) for f in bounds()]\n",
    "\n",
    "    # create the footprint\n",
    "    footprint = Polygon([\n",
    "        [bbox[0], bbox[1]],\n",
    "        [bbox[0], bbox[3]],\n",
    "        [bbox[2], bbox[3]],\n",
    "        [bbox[2], bbox[1]]\n",
    "    ])\n",
    "\n",
    "    return bbox, mapping(footprint)\n",
    "\n",
    "    return bbox, mapping(footprint)"
   ]
  },
  {
   "cell_type": "code",
   "execution_count": 4,
   "id": "ecdab97d",
   "metadata": {},
   "outputs": [
    {
     "name": "stdout",
     "output_type": "stream",
     "text": [
      "3\n",
      "* <Catalog id=Paranapanema>\n",
      "  * <Item id=1a_g2_orth>\n",
      "  * <Item id=1a_g2_sept>\n",
      "  * <Item id=1a_u6_orth>\n"
     ]
    }
   ],
   "source": [
    "\n",
    "from rasterio.warp import transform_bounds, transform_geom\n",
    "\n",
    "# get a list of files\n",
    "folder = Path('/home/jgillan/Documents/STAC_drone')\n",
    "masks = list(folder.rglob('*.tif'))\n",
    "\n",
    "for mask in masks:\n",
    "\n",
    "    # open the mask with rasterio\n",
    "    ds = rasterio.open(mask)\n",
    "\n",
    "    bbox, footprint = get_bbox_and_footprint(ds)\n",
    "    \n",
    "    idx = mask.stem[:10]\n",
    "    \n",
    "    from datetime import datetime\n",
    "    item = pystac.Item(id=idx,\n",
    "                 geometry=footprint,\n",
    "                 bbox=bbox,\n",
    "                 datetime=datetime.utcnow(),\n",
    "                 properties={})\n",
    "        \n",
    "    \n",
    "    catalog.add_item(item)\n",
    "\n",
    "print(len(list(catalog.get_items())))\n",
    "catalog.describe()"
   ]
  },
  {
   "cell_type": "code",
   "execution_count": 5,
   "id": "13e495e1",
   "metadata": {},
   "outputs": [],
   "source": [
    "from pystac.extensions.projection import AssetProjectionExtension\n",
    "\n",
    "for mask in masks:\n",
    "    idx = mask.stem[:10]\n",
    "    item = catalog.get_item(idx)\n",
    "\n",
    "    # as before, let's open the mask with rasterio and get bbox and footprint\n",
    "    ds = rasterio.open(mask)\n",
    "    bbox, footprint = get_bbox_and_footprint(ds)\n",
    "\n",
    "    item.add_asset(\n",
    "        key='watermask',\n",
    "        asset=pystac.Asset(\n",
    "            href=mask.as_posix(),\n",
    "            media_type=pystac.MediaType.GEOTIFF\n",
    "        )\n",
    "    )"
   ]
  },
  {
   "cell_type": "code",
   "execution_count": 9,
   "id": "b188fc61",
   "metadata": {
    "scrolled": true
   },
   "outputs": [],
   "source": [
    "stac_directory=\"/home/jgillan/Documents/STAC_drone\"\n",
    "\n",
    "catalog.normalize_hrefs(os.path.join(stac_directory, 'stac_test3'))\n",
    "\n",
    "catalog.make_all_asset_hrefs_relative()\n",
    "catalog.save(catalog_type=pystac.CatalogType.SELF_CONTAINED)"
   ]
  },
  {
   "cell_type": "code",
   "execution_count": null,
   "id": "05e6ffa3",
   "metadata": {},
   "outputs": [],
   "source": []
  }
 ],
 "metadata": {
  "kernelspec": {
   "display_name": "Python 3 (ipykernel)",
   "language": "python",
   "name": "python3"
  },
  "language_info": {
   "codemirror_mode": {
    "name": "ipython",
    "version": 3
   },
   "file_extension": ".py",
   "mimetype": "text/x-python",
   "name": "python",
   "nbconvert_exporter": "python",
   "pygments_lexer": "ipython3",
   "version": "3.9.13"
  }
 },
 "nbformat": 4,
 "nbformat_minor": 5
}
